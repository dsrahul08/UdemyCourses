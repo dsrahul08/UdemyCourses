{
 "cells": [
  {
   "cell_type": "code",
   "execution_count": 1,
   "metadata": {},
   "outputs": [],
   "source": [
    "#Multi Threading \n",
    "    #MultiTasking - Execution of several tasks simultaneously \n",
    "        #1. Process based multi tasksing \n",
    "        #2. Thread based multi tasking \n",
    "        \n",
    "    #1. Process based multi tasking - Each task is seperate independent process\n",
    "    #2. Thread based multi tasksing - 10000 - 5000 not dependent on rest of 5000\n",
    "    \n",
    "#Advantage - Reduces the time and increase the performance \n",
    "\n",
    "#Python provides inbuilt multi threading \n",
    "#threading - module \n",
    "\n",
    "#Thread \n",
    "#1. Flow of execution\n",
    "#2. For every thread there is some jobs available \n",
    "#Single threaded program - Only one thread\n",
    "#Multiple threads - Multiple flows  "
   ]
  },
  {
   "cell_type": "code",
   "execution_count": 4,
   "metadata": {},
   "outputs": [
    {
     "name": "stdout",
     "output_type": "stream",
     "text": [
      "Current executiong thread: MainThread\n"
     ]
    }
   ],
   "source": [
    "import threading \n",
    "print('Current executiong thread:', threading.current_thread().getName())"
   ]
  },
  {
   "cell_type": "code",
   "execution_count": 5,
   "metadata": {},
   "outputs": [],
   "source": [
    "#There are 3 ways to create multiple threads\n",
    "#1. Creating a thread without using any class\n",
    "#2. Creating a thread by extending thread class\n",
    "#3. Creating a thread without extending thread class"
   ]
  },
  {
   "cell_type": "code",
   "execution_count": 14,
   "metadata": {},
   "outputs": [
    {
     "name": "stdout",
     "output_type": "stream",
     "text": [
      "Display:Display: Thread-20\n",
      "This code executed by thread: Thread-19 \n",
      "MainThread\n"
     ]
    }
   ],
   "source": [
    "from threading import *\n",
    "def display():\n",
    "    print('Display:', current_thread().getName())\n",
    "t1 = Thread(target=display)\n",
    "t2 = Thread(target=display)\n",
    "t1.start()\n",
    "t2.start()\n",
    "print('This code executed by thread:', current_thread().getName())"
   ]
  },
  {
   "cell_type": "code",
   "execution_count": 32,
   "metadata": {},
   "outputs": [
    {
     "name": "stdout",
     "output_type": "stream",
     "text": [
      "Child ThreadMain Thread\n",
      "Child Thread\n",
      "\n",
      "Main Thread\n",
      "Main Thread\n",
      "Main Thread\n",
      "Main Thread\n",
      "Main Thread\n",
      "Main Thread\n",
      "Main Thread\n",
      "Main Thread\n",
      "Main Thread\n",
      "Child Thread\n",
      "Child Thread\n",
      "Child Thread\n",
      "Child Thread\n",
      "Child Thread\n",
      "Child Thread\n",
      "Child Thread\n",
      "Child Thread\n"
     ]
    }
   ],
   "source": [
    "from threading import *\n",
    "def display():\n",
    "    for i in range(10):\n",
    "        print('Child Thread')\n",
    "t = Thread(target=display)\n",
    "t.start()\n",
    "for i in range(10):\n",
    "    print('Main Thread')"
   ]
  },
  {
   "cell_type": "code",
   "execution_count": 33,
   "metadata": {},
   "outputs": [],
   "source": [
    "def mul(x,y):\n",
    "    z=x*y\n",
    "    print(z)"
   ]
  },
  {
   "cell_type": "code",
   "execution_count": 34,
   "metadata": {},
   "outputs": [
    {
     "name": "stdout",
     "output_type": "stream",
     "text": [
      "20\n"
     ]
    }
   ],
   "source": [
    "mul(10,2)"
   ]
  },
  {
   "cell_type": "code",
   "execution_count": 50,
   "metadata": {},
   "outputs": [
    {
     "name": "stdout",
     "output_type": "stream",
     "text": [
      "Child Thread 2Main Thread 2 MainThread\n",
      "Main Thread 2 MainThread\n",
      "Main Thread 2 MainThread\n",
      "Main Thread 2 MainThread\n",
      "Main Thread 2 MainThread\n",
      "Main Thread 2 MainThread\n",
      "Main Thread 2 MainThread\n",
      "Main Thread 2 MainThread\n",
      "Main Thread 2 MainThread\n",
      "Main Thread 2 MainThread\n",
      " Thread-51\n",
      "Child Thread 2 Thread-51\n",
      "Child Thread 2 Thread-51\n",
      "Child Thread 2 Thread-51\n",
      "Child Thread 2 Thread-51\n",
      "Child Thread 2 Thread-51\n",
      "Child Thread 2 Thread-51\n",
      "Child Thread 2 Thread-51\n",
      "Child Thread 2 Thread-51\n",
      "Child Thread 2 Thread-51\n"
     ]
    }
   ],
   "source": [
    "class Test:\n",
    "    def display(self):\n",
    "        for i in range(10):\n",
    "            print('Child Thread 2', current_thread().getName())\n",
    "obj = Test()\n",
    "t = Thread(target=obj.display)\n",
    "t.start()\n",
    "for i in range(10):\n",
    "    print('Main Thread 2', current_thread().getName())"
   ]
  },
  {
   "cell_type": "code",
   "execution_count": 57,
   "metadata": {},
   "outputs": [
    {
     "name": "stdout",
     "output_type": "stream",
     "text": [
      "Double 2\n",
      "Double 4\n",
      "Double 6\n",
      "Double 8\n",
      "Double 10\n",
      "Double 12\n",
      "Double 14\n",
      "Double 16\n",
      "Square 1\n",
      "Square 4\n",
      "Square 9\n",
      "Square 16\n",
      "Square 25\n",
      "Square 36\n",
      "Square 49\n",
      "Square 64\n",
      "The total timee taken 16.014873504638672\n"
     ]
    }
   ],
   "source": [
    "import time\n",
    "def doubles(numbers):\n",
    "    for n in numbers:\n",
    "        time.sleep(1)\n",
    "        print('Double', 2*n)\n",
    "def squares(numbers):\n",
    "    for n in numbers:\n",
    "        time.sleep(1)\n",
    "        print('Square', n*n)\n",
    "numbers = [1,2,3,4,5,6,7,8]\n",
    "begintime = time.time()\n",
    "doubles(numbers)\n",
    "squares(numbers)\n",
    "endtime= time.time()\n",
    "print('The total timee taken', endtime-begintime)"
   ]
  },
  {
   "cell_type": "code",
   "execution_count": 67,
   "metadata": {},
   "outputs": [
    {
     "name": "stdout",
     "output_type": "stream",
     "text": [
      "DoubleSquare 1\n",
      "Square 4\n",
      "Square 9 2\n",
      "\n",
      "Square 16\n",
      "Square 25\n",
      "Square 36\n",
      "Square 49\n",
      "Square 64\n",
      "Double 4\n",
      "Double 6\n",
      "Double 8\n",
      "Double 10\n",
      "Double 12\n",
      "Double 14\n",
      "Double 16\n",
      "The total time taken 8.012639284133911\n"
     ]
    }
   ],
   "source": [
    "from threading import *\n",
    "import time\n",
    "def doubles(numbers):\n",
    "    for n in numbers:\n",
    "        time.sleep(1)\n",
    "        print('Double', 2*n)\n",
    "def squares(numbers):\n",
    "    time.sleep(1)\n",
    "    for n in numbers:\n",
    "        print('Square', n*n)\n",
    "numbers = [1,2,3,4,5,6,7,8]\n",
    "begintime = time.time()\n",
    "t1 = Thread(target=doubles, args=(numbers,))\n",
    "t2 = Thread(target=squares, args=(numbers,))\n",
    "t1.start()\n",
    "t2.start()\n",
    "t1.join()\n",
    "t2.join()\n",
    "endtime = time.time()\n",
    "print('The total time taken', endtime-begintime)"
   ]
  },
  {
   "cell_type": "code",
   "execution_count": 55,
   "metadata": {},
   "outputs": [],
   "source": [
    "t1 = (10,)"
   ]
  },
  {
   "cell_type": "code",
   "execution_count": 56,
   "metadata": {},
   "outputs": [
    {
     "data": {
      "text/plain": [
       "tuple"
      ]
     },
     "execution_count": 56,
     "metadata": {},
     "output_type": "execute_result"
    }
   ],
   "source": [
    "type(t1)"
   ]
  },
  {
   "cell_type": "code",
   "execution_count": 72,
   "metadata": {},
   "outputs": [
    {
     "name": "stdout",
     "output_type": "stream",
     "text": [
      "Child Thread Thread-76\n",
      "Child Thread Thread-76\n",
      "Child Thread Thread-76\n",
      "Child Thread Thread-76\n",
      "Child Thread Thread-76\n",
      "Child Thread Main Thread - 1Thread-76 \n",
      "Child Thread Thread-76\n",
      "Child Thread Thread-76\n",
      "Child Thread Thread-76\n",
      "Child Thread Thread-76\n",
      "MainThread\n",
      "Main Thread - 1 MainThread\n",
      "Main Thread - 1 MainThread\n",
      "Main Thread - 1 MainThread\n",
      "Main Thread - 1 MainThread\n",
      "Main Thread - 1 MainThread\n",
      "Main Thread - 1 MainThread\n",
      "Main Thread - 1 MainThread\n",
      "Main Thread - 1 MainThread\n",
      "Main Thread - 1 MainThread\n"
     ]
    }
   ],
   "source": [
    "from threading import *\n",
    "class MyThread(Thread):\n",
    "    def run(self):\n",
    "        for i in range(10):\n",
    "            print('Child Thread', current_thread().getName())\n",
    "t = MyThread()\n",
    "\n",
    "\n",
    "##########\n",
    "t.start()\n",
    "for i in range(10):\n",
    "    print('Main Thread', current_thread().getName())\n",
    "    "
   ]
  },
  {
   "cell_type": "code",
   "execution_count": null,
   "metadata": {},
   "outputs": [],
   "source": [
    "#There are 3 ways to create multiple threads\n",
    "#1. Creating a thread without using any class\n",
    "from threading import *\n",
    "def display():\n",
    "    print('Display:', current_thread().getName())\n",
    "t1 = Thread(target=display)\n",
    "t2 = Thread(target=display)\n",
    "t1.start()\n",
    "t2.start()\n",
    "print('This code executed by thread:', current_thread().getName())\n",
    "\n",
    "\n",
    "#2. Creating a thread by extending thread class\n",
    "from threading import *\n",
    "class MyThread(Thread):\n",
    "    def run(self):\n",
    "        for i in range(10):\n",
    "            print('Child Thread', current_thread().getName())\n",
    "t = MyThread()\n",
    "\n",
    "\n",
    "##########\n",
    "t.start()\n",
    "for i in range(10):\n",
    "    print('Main Thread', current_thread().getName())\n",
    "    \n",
    "\n",
    "#3. Creating a thread without extending thread class\n",
    "class Test:\n",
    "    def display(self):\n",
    "        for i in range(10):\n",
    "            print('Child Thread 2', current_thread().getName())\n",
    "obj = Test()\n",
    "t = Thread(target=obj.display)\n",
    "t.start()\n",
    "for i in range(10):\n",
    "    print('Main Thread 2', current_thread().getName())"
   ]
  },
  {
   "cell_type": "code",
   "execution_count": 76,
   "metadata": {},
   "outputs": [
    {
     "name": "stdout",
     "output_type": "stream",
     "text": [
      "Rahuls Thread\n",
      "Rahuls Thread\n",
      "Rahuls Thread\n"
     ]
    }
   ],
   "source": [
    "from threading import *\n",
    "print(current_thread().getName())\n",
    "current_thread().setName('Rahuls Thread')\n",
    "print(current_thread().getName())\n",
    "print(current_thread().name)\n",
    "\n",
    "t.setName('CH')"
   ]
  },
  {
   "cell_type": "code",
   "execution_count": 87,
   "metadata": {},
   "outputs": [
    {
     "name": "stdout",
     "output_type": "stream",
     "text": [
      "Child Thread 2Main Thread 2 Rahuls Thread\n",
      "Main Thread 2 Rahuls Thread\n",
      "Main Thread 2 Rahuls Thread\n",
      "Main Thread 2 Rahuls Thread\n",
      "Main Thread 2 Rahuls Thread\n",
      "Main Thread 2 Rahuls Thread\n",
      "Main Thread 2 Rahuls Thread\n",
      "Main Thread 2 Rahuls Thread\n",
      "Main Thread 2 Rahuls Thread\n",
      "Main Thread 2 Rahuls Thread\n",
      " Thread-87\n",
      "Child Thread 2 Thread-87\n",
      "Child Thread 2 Thread-87\n",
      "Child Thread 2 Thread-87\n",
      "Child Thread 2 Thread-87\n",
      "Child Thread 2 Thread-87\n",
      "Child Thread 2 Thread-87\n",
      "Child Thread 2 Thread-87\n",
      "Child Thread 2 Thread-87\n",
      "Child Thread 2 Thread-87\n"
     ]
    }
   ],
   "source": [
    "class Test:\n",
    "    def display(self):\n",
    "        for i in range(10):\n",
    "            print('Child Thread 2', current_thread().getName())\n",
    "obj = Test()\n",
    "t = Thread(target=obj.display)\n",
    "#t.setName('EMP Update')\n",
    "t.start()\n",
    "for i in range(10):\n",
    "    print('Main Thread 2', current_thread().getName())"
   ]
  },
  {
   "cell_type": "code",
   "execution_count": 89,
   "metadata": {},
   "outputs": [
    {
     "name": "stdout",
     "output_type": "stream",
     "text": [
      "Child Thread\n",
      "Main Thread identification no: 5204\n",
      "Child Thread Identification no: 3416\n"
     ]
    }
   ],
   "source": [
    "from threading import *\n",
    "def display():\n",
    "    print('Child Thread')\n",
    "t = Thread(target=display)\n",
    "t.start()\n",
    "print('Main Thread identification no:', current_thread().ident)\n",
    "print('Child Thread Identification no:', t.ident)"
   ]
  },
  {
   "cell_type": "code",
   "execution_count": 90,
   "metadata": {},
   "outputs": [
    {
     "name": "stdout",
     "output_type": "stream",
     "text": [
      "How many active threads are there 5\n"
     ]
    }
   ],
   "source": [
    "from threading import * \n",
    "import time\n",
    "def display():\n",
    "    print(current_thread().name, 'Started')\n",
    "    time.sleep(4)\n",
    "    print(current_thread().name, 'Ended')\n",
    "print('How many active threads are there', active_count())"
   ]
  },
  {
   "cell_type": "code",
   "execution_count": null,
   "metadata": {},
   "outputs": [],
   "source": [
    "from threading import * \n",
    "import time\n",
    "def display():\n",
    "    print(current_thread().name, 'Started')\n",
    "    time.sleep(4)\n",
    "    print(current_thread().name, 'Ended')\n",
    "print('How many active threads are there', active_count())\n",
    "t1 = Thread(target=display, name = 'Child Thread 1')\n",
    "t2 = Thread(target=display, name = 'Child Thread 2')\n",
    "t3 = Thread(target=display, name = 'Child Thread 3')\n",
    "t1.start()\n",
    "t2.start()\n",
    "t3.start()\n",
    "print('How many active threads are there', active_count())\n",
    "time.sleep(10)\n",
    "print('How many active threads are there', active_count())"
   ]
  },
  {
   "cell_type": "code",
   "execution_count": null,
   "metadata": {},
   "outputs": [],
   "source": [
    "from threading import * \n",
    "import time\n",
    "def display():\n",
    "    print(current_thread().name, 'Started')\n",
    "    time.sleep(4)\n",
    "    print(current_thread().name, 'Ended')\n",
    "print('How many active threads are there', active_count())\n",
    "t1 = Thread(target=display, name = 'Child Thread 1')\n",
    "t2 = Thread(target=display, name = 'Child Thread 2')\n",
    "t3 = Thread(target=display, name = 'Child Thread 3')\n",
    "t1.start()\n",
    "t2.start()\n",
    "t3.start()\n",
    "################\n",
    "l = enumerate()\n",
    "for t in l:\n",
    "    print('Name', t.name)\n",
    "time.sleep(10)\n",
    "\n",
    "##################\n",
    "l = enumerate()\n",
    "for t in l:\n",
    "    print('Name', t.name)\n"
   ]
  },
  {
   "cell_type": "code",
   "execution_count": 91,
   "metadata": {},
   "outputs": [
    {
     "name": "stdout",
     "output_type": "stream",
     "text": [
      "How many active threads are there 5\n",
      "Child Thread 1 Started\n",
      "Child Thread 2 Started\n",
      "Child Thread 3Child Thread 1 is alive? True\n",
      "Child Thread 2 is alive? True\n",
      "Child Thread 3 is alive? True\n",
      "Name Rahuls Thread\n",
      "Name Thread-4\n",
      "Name Thread-5\n",
      "Name IPythonHistorySavingThread\n",
      "Name Thread-3\n",
      "Name Child Thread 1\n",
      "Name Child Thread 2\n",
      "Name Child Thread 3\n",
      " Started\n",
      "Child Thread 1 Ended\n",
      "Child Thread 2 Ended\n",
      "Child Thread 3 Ended\n",
      "Child Thread 1 is alive? False\n",
      "Child Thread 2 is alive? False\n",
      "Child Thread 3 is alive? False\n",
      "Name Rahuls Thread\n",
      "Name Thread-4\n",
      "Name Thread-5\n",
      "Name IPythonHistorySavingThread\n",
      "Name Thread-3\n"
     ]
    }
   ],
   "source": [
    "from threading import * \n",
    "import time\n",
    "def display():\n",
    "    print(current_thread().name, 'Started')\n",
    "    time.sleep(4)\n",
    "    print(current_thread().name, 'Ended')\n",
    "print('How many active threads are there', active_count())\n",
    "t1 = Thread(target=display, name = 'Child Thread 1')\n",
    "t2 = Thread(target=display, name = 'Child Thread 2')\n",
    "t3 = Thread(target=display, name = 'Child Thread 3')\n",
    "t1.start()\n",
    "t2.start()\n",
    "t3.start()\n",
    "t.join()\n",
    "################\n",
    "print(t1.name, 'is alive?',t1.is_alive())\n",
    "print(t2.name, 'is alive?',t2.is_alive())\n",
    "print(t3.name, 'is alive?',t3.is_alive())\n",
    "l = enumerate()\n",
    "for t in l:\n",
    "    print('Name', t.getName())\n",
    "time.sleep(10)\n",
    "\n",
    "##################\n",
    "print(t1.name, 'is alive?',t1.is_alive())\n",
    "print(t2.name, 'is alive?',t2.is_alive())\n",
    "print(t3.name, 'is alive?',t3.is_alive())\n",
    "l = enumerate()\n",
    "for t in l:\n",
    "    print('Name', t.name)\n"
   ]
  },
  {
   "cell_type": "code",
   "execution_count": null,
   "metadata": {},
   "outputs": [],
   "source": [
    "from threading import *\n",
    "import time\n",
    "def display():\n",
    "    for i in range(10):\n",
    "        print('A Thread')\n",
    "        time.sleep(2)\n",
    "t = Thread(target=display)\n",
    "t.start()\n",
    "for i in range(10):\n",
    "    print('B Thread')"
   ]
  },
  {
   "cell_type": "code",
   "execution_count": null,
   "metadata": {},
   "outputs": [],
   "source": [
    "from threading import *\n",
    "import time\n",
    "def display():\n",
    "    for i in range(10):\n",
    "        print('A Thread')\n",
    "        time.sleep(2)\n",
    "t = Thread(target=display)\n",
    "t.start()\n",
    "t.join()\n",
    "for i in range(10):\n",
    "    print('B Thread')"
   ]
  },
  {
   "cell_type": "code",
   "execution_count": null,
   "metadata": {},
   "outputs": [],
   "source": [
    "from threading import *\n",
    "import time\n",
    "def display():\n",
    "    for i in range(10):\n",
    "        print('A Thread')\n",
    "        time.sleep(2)\n",
    "t = Thread(target=display)\n",
    "t.start()\n",
    "t.join(5)\n",
    "for i in range(10):\n",
    "    print('B Thread')"
   ]
  },
  {
   "cell_type": "code",
   "execution_count": null,
   "metadata": {},
   "outputs": [],
   "source": []
  },
  {
   "cell_type": "code",
   "execution_count": null,
   "metadata": {},
   "outputs": [],
   "source": []
  },
  {
   "cell_type": "code",
   "execution_count": null,
   "metadata": {},
   "outputs": [],
   "source": []
  },
  {
   "cell_type": "code",
   "execution_count": null,
   "metadata": {},
   "outputs": [],
   "source": []
  },
  {
   "cell_type": "code",
   "execution_count": null,
   "metadata": {},
   "outputs": [],
   "source": []
  },
  {
   "cell_type": "code",
   "execution_count": null,
   "metadata": {},
   "outputs": [],
   "source": []
  },
  {
   "cell_type": "code",
   "execution_count": null,
   "metadata": {},
   "outputs": [],
   "source": []
  },
  {
   "cell_type": "code",
   "execution_count": null,
   "metadata": {},
   "outputs": [],
   "source": []
  },
  {
   "cell_type": "code",
   "execution_count": null,
   "metadata": {},
   "outputs": [],
   "source": []
  },
  {
   "cell_type": "code",
   "execution_count": null,
   "metadata": {},
   "outputs": [],
   "source": []
  },
  {
   "cell_type": "code",
   "execution_count": null,
   "metadata": {},
   "outputs": [],
   "source": []
  },
  {
   "cell_type": "code",
   "execution_count": null,
   "metadata": {},
   "outputs": [],
   "source": []
  },
  {
   "cell_type": "code",
   "execution_count": null,
   "metadata": {},
   "outputs": [],
   "source": []
  },
  {
   "cell_type": "code",
   "execution_count": null,
   "metadata": {},
   "outputs": [],
   "source": []
  },
  {
   "cell_type": "code",
   "execution_count": null,
   "metadata": {},
   "outputs": [],
   "source": []
  }
 ],
 "metadata": {
  "kernelspec": {
   "display_name": "Python 3",
   "language": "python",
   "name": "python3"
  },
  "language_info": {
   "codemirror_mode": {
    "name": "ipython",
    "version": 3
   },
   "file_extension": ".py",
   "mimetype": "text/x-python",
   "name": "python",
   "nbconvert_exporter": "python",
   "pygments_lexer": "ipython3",
   "version": "3.7.4"
  }
 },
 "nbformat": 4,
 "nbformat_minor": 2
}
