{
 "cells": [
  {
   "cell_type": "code",
   "execution_count": 1,
   "metadata": {},
   "outputs": [],
   "source": [
    "#Multi Threading \n",
    "    #MultiTasking - Execution of several tasks simultaneously \n",
    "        #1. Process based multi tasksing \n",
    "        #2. Thread based multi tasking \n",
    "        \n",
    "    #1. Process based multi tasking - Each task is seperate independent process\n",
    "    #2. Thread based multi tasksing - 10000 - 5000 not dependent on rest of 5000\n",
    "    \n",
    "#Advantage - Reduces the time and increase the performance \n",
    "\n",
    "#Python provides inbuilt multi threading \n",
    "#threading - module \n",
    "\n",
    "#Thread \n",
    "#1. Flow of execution\n",
    "#2. For every thread there is some jobs available \n",
    "#Single threaded program - Only one thread\n",
    "#Multiple threads - Multiple flows  "
   ]
  },
  {
   "cell_type": "code",
   "execution_count": 4,
   "metadata": {},
   "outputs": [
    {
     "name": "stdout",
     "output_type": "stream",
     "text": [
      "Current executiong thread: MainThread\n"
     ]
    }
   ],
   "source": [
    "import threading \n",
    "print('Current executiong thread:', threading.current_thread().getName())"
   ]
  },
  {
   "cell_type": "code",
   "execution_count": 5,
   "metadata": {},
   "outputs": [],
   "source": [
    "#There are 3 ways to create multiple threads\n",
    "#1. Creating a thread without using any class\n",
    "#2. Creating a thread by extending thread class\n",
    "#3. Creating a thread without extending thread class"
   ]
  },
  {
   "cell_type": "code",
   "execution_count": 14,
   "metadata": {},
   "outputs": [
    {
     "name": "stdout",
     "output_type": "stream",
     "text": [
      "Display:Display: Thread-20\n",
      "This code executed by thread: Thread-19 \n",
      "MainThread\n"
     ]
    }
   ],
   "source": [
    "from threading import *\n",
    "def display():\n",
    "    print('Display:', current_thread().getName())\n",
    "t1 = Thread(target=display)\n",
    "t2 = Thread(target=display)\n",
    "t1.start()\n",
    "t2.start()\n",
    "print('This code executed by thread:', current_thread().getName())"
   ]
  },
  {
   "cell_type": "code",
   "execution_count": 32,
   "metadata": {},
   "outputs": [
    {
     "name": "stdout",
     "output_type": "stream",
     "text": [
      "Child ThreadMain Thread\n",
      "Child Thread\n",
      "\n",
      "Main Thread\n",
      "Main Thread\n",
      "Main Thread\n",
      "Main Thread\n",
      "Main Thread\n",
      "Main Thread\n",
      "Main Thread\n",
      "Main Thread\n",
      "Main Thread\n",
      "Child Thread\n",
      "Child Thread\n",
      "Child Thread\n",
      "Child Thread\n",
      "Child Thread\n",
      "Child Thread\n",
      "Child Thread\n",
      "Child Thread\n"
     ]
    }
   ],
   "source": [
    "from threading import *\n",
    "def display():\n",
    "    for i in range(10):\n",
    "        print('Child Thread')\n",
    "t = Thread(target=display)\n",
    "t.start()\n",
    "for i in range(10):\n",
    "    print('Main Thread')"
   ]
  },
  {
   "cell_type": "code",
   "execution_count": 33,
   "metadata": {},
   "outputs": [],
   "source": [
    "def mul(x,y):\n",
    "    z=x*y\n",
    "    print(z)"
   ]
  },
  {
   "cell_type": "code",
   "execution_count": 34,
   "metadata": {},
   "outputs": [
    {
     "name": "stdout",
     "output_type": "stream",
     "text": [
      "20\n"
     ]
    }
   ],
   "source": [
    "mul(10,2)"
   ]
  },
  {
   "cell_type": "code",
   "execution_count": 50,
   "metadata": {},
   "outputs": [
    {
     "name": "stdout",
     "output_type": "stream",
     "text": [
      "Child Thread 2Main Thread 2 MainThread\n",
      "Main Thread 2 MainThread\n",
      "Main Thread 2 MainThread\n",
      "Main Thread 2 MainThread\n",
      "Main Thread 2 MainThread\n",
      "Main Thread 2 MainThread\n",
      "Main Thread 2 MainThread\n",
      "Main Thread 2 MainThread\n",
      "Main Thread 2 MainThread\n",
      "Main Thread 2 MainThread\n",
      " Thread-51\n",
      "Child Thread 2 Thread-51\n",
      "Child Thread 2 Thread-51\n",
      "Child Thread 2 Thread-51\n",
      "Child Thread 2 Thread-51\n",
      "Child Thread 2 Thread-51\n",
      "Child Thread 2 Thread-51\n",
      "Child Thread 2 Thread-51\n",
      "Child Thread 2 Thread-51\n",
      "Child Thread 2 Thread-51\n"
     ]
    }
   ],
   "source": [
    "class Test:\n",
    "    def display(self):\n",
    "        for i in range(10):\n",
    "            print('Child Thread 2', current_thread().getName())\n",
    "obj = Test()\n",
    "t = Thread(target=obj.display)\n",
    "t.start()\n",
    "for i in range(10):\n",
    "    print('Main Thread 2', current_thread().getName())"
   ]
  },
  {
   "cell_type": "code",
   "execution_count": 57,
   "metadata": {},
   "outputs": [
    {
     "name": "stdout",
     "output_type": "stream",
     "text": [
      "Double 2\n",
      "Double 4\n",
      "Double 6\n",
      "Double 8\n",
      "Double 10\n",
      "Double 12\n",
      "Double 14\n",
      "Double 16\n",
      "Square 1\n",
      "Square 4\n",
      "Square 9\n",
      "Square 16\n",
      "Square 25\n",
      "Square 36\n",
      "Square 49\n",
      "Square 64\n",
      "The total timee taken 16.014873504638672\n"
     ]
    }
   ],
   "source": [
    "import time\n",
    "def doubles(numbers):\n",
    "    for n in numbers:\n",
    "        time.sleep(1)\n",
    "        print('Double', 2*n)\n",
    "def squares(numbers):\n",
    "    for n in numbers:\n",
    "        time.sleep(1)\n",
    "        print('Square', n*n)\n",
    "numbers = [1,2,3,4,5,6,7,8]\n",
    "begintime = time.time()\n",
    "doubles(numbers)\n",
    "squares(numbers)\n",
    "endtime= time.time()\n",
    "print('The total timee taken', endtime-begintime)"
   ]
  },
  {
   "cell_type": "code",
   "execution_count": 67,
   "metadata": {},
   "outputs": [
    {
     "name": "stdout",
     "output_type": "stream",
     "text": [
      "DoubleSquare 1\n",
      "Square 4\n",
      "Square 9 2\n",
      "\n",
      "Square 16\n",
      "Square 25\n",
      "Square 36\n",
      "Square 49\n",
      "Square 64\n",
      "Double 4\n",
      "Double 6\n",
      "Double 8\n",
      "Double 10\n",
      "Double 12\n",
      "Double 14\n",
      "Double 16\n",
      "The total time taken 8.012639284133911\n"
     ]
    }
   ],
   "source": [
    "from threading import *\n",
    "import time\n",
    "def doubles(numbers):\n",
    "    for n in numbers:\n",
    "        time.sleep(1)\n",
    "        print('Double', 2*n)\n",
    "def squares(numbers):\n",
    "    time.sleep(1)\n",
    "    for n in numbers:\n",
    "        print('Square', n*n)\n",
    "numbers = [1,2,3,4,5,6,7,8]\n",
    "begintime = time.time()\n",
    "t1 = Thread(target=doubles, args=(numbers,))\n",
    "t2 = Thread(target=squares, args=(numbers,))\n",
    "t1.start()\n",
    "t2.start()\n",
    "t1.join()\n",
    "t2.join()\n",
    "endtime = time.time()\n",
    "print('The total time taken', endtime-begintime)"
   ]
  },
  {
   "cell_type": "code",
   "execution_count": 55,
   "metadata": {},
   "outputs": [],
   "source": [
    "t1 = (10,)"
   ]
  },
  {
   "cell_type": "code",
   "execution_count": 56,
   "metadata": {},
   "outputs": [
    {
     "data": {
      "text/plain": [
       "tuple"
      ]
     },
     "execution_count": 56,
     "metadata": {},
     "output_type": "execute_result"
    }
   ],
   "source": [
    "type(t1)"
   ]
  },
  {
   "cell_type": "code",
   "execution_count": 72,
   "metadata": {},
   "outputs": [
    {
     "name": "stdout",
     "output_type": "stream",
     "text": [
      "Child Thread Thread-76\n",
      "Child Thread Thread-76\n",
      "Child Thread Thread-76\n",
      "Child Thread Thread-76\n",
      "Child Thread Thread-76\n",
      "Child Thread Main Thread - 1Thread-76 \n",
      "Child Thread Thread-76\n",
      "Child Thread Thread-76\n",
      "Child Thread Thread-76\n",
      "Child Thread Thread-76\n",
      "MainThread\n",
      "Main Thread - 1 MainThread\n",
      "Main Thread - 1 MainThread\n",
      "Main Thread - 1 MainThread\n",
      "Main Thread - 1 MainThread\n",
      "Main Thread - 1 MainThread\n",
      "Main Thread - 1 MainThread\n",
      "Main Thread - 1 MainThread\n",
      "Main Thread - 1 MainThread\n",
      "Main Thread - 1 MainThread\n"
     ]
    }
   ],
   "source": [
    "from threading import *\n",
    "class MyThread(Thread):\n",
    "    def run(self):\n",
    "        for i in range(10):\n",
    "            print('Child Thread', current_thread().getName())\n",
    "t = MyThread()\n",
    "\n",
    "\n",
    "##########\n",
    "t.start()\n",
    "for i in range(10):\n",
    "    print('Main Thread', current_thread().getName())\n",
    "    "
   ]
  },
  {
   "cell_type": "code",
   "execution_count": null,
   "metadata": {},
   "outputs": [],
   "source": [
    "#There are 3 ways to create multiple threads\n",
    "#1. Creating a thread without using any class\n",
    "from threading import *\n",
    "def display():\n",
    "    print('Display:', current_thread().getName())\n",
    "t1 = Thread(target=display)\n",
    "t2 = Thread(target=display)\n",
    "t1.start()\n",
    "t2.start()\n",
    "print('This code executed by thread:', current_thread().getName())\n",
    "\n",
    "\n",
    "#2. Creating a thread by extending thread class\n",
    "from threading import *\n",
    "class MyThread(Thread):\n",
    "    def run(self):\n",
    "        for i in range(10):\n",
    "            print('Child Thread', current_thread().getName())\n",
    "t = MyThread()\n",
    "\n",
    "\n",
    "##########\n",
    "t.start()\n",
    "for i in range(10):\n",
    "    print('Main Thread', current_thread().getName())\n",
    "    \n",
    "\n",
    "#3. Creating a thread without extending thread class\n",
    "class Test:\n",
    "    def display(self):\n",
    "        for i in range(10):\n",
    "            print('Child Thread 2', current_thread().getName())\n",
    "obj = Test()\n",
    "t = Thread(target=obj.display)\n",
    "t.start()\n",
    "for i in range(10):\n",
    "    print('Main Thread 2', current_thread().getName())"
   ]
  },
  {
   "cell_type": "code",
   "execution_count": 76,
   "metadata": {},
   "outputs": [
    {
     "name": "stdout",
     "output_type": "stream",
     "text": [
      "Rahuls Thread\n",
      "Rahuls Thread\n",
      "Rahuls Thread\n"
     ]
    }
   ],
   "source": [
    "from threading import *\n",
    "print(current_thread().getName())\n",
    "current_thread().setName('Rahuls Thread')\n",
    "print(current_thread().getName())\n",
    "print(current_thread().name)\n",
    "\n",
    "t.setName('CH')"
   ]
  },
  {
   "cell_type": "code",
   "execution_count": 87,
   "metadata": {},
   "outputs": [
    {
     "name": "stdout",
     "output_type": "stream",
     "text": [
      "Child Thread 2Main Thread 2 Rahuls Thread\n",
      "Main Thread 2 Rahuls Thread\n",
      "Main Thread 2 Rahuls Thread\n",
      "Main Thread 2 Rahuls Thread\n",
      "Main Thread 2 Rahuls Thread\n",
      "Main Thread 2 Rahuls Thread\n",
      "Main Thread 2 Rahuls Thread\n",
      "Main Thread 2 Rahuls Thread\n",
      "Main Thread 2 Rahuls Thread\n",
      "Main Thread 2 Rahuls Thread\n",
      " Thread-87\n",
      "Child Thread 2 Thread-87\n",
      "Child Thread 2 Thread-87\n",
      "Child Thread 2 Thread-87\n",
      "Child Thread 2 Thread-87\n",
      "Child Thread 2 Thread-87\n",
      "Child Thread 2 Thread-87\n",
      "Child Thread 2 Thread-87\n",
      "Child Thread 2 Thread-87\n",
      "Child Thread 2 Thread-87\n"
     ]
    }
   ],
   "source": [
    "class Test:\n",
    "    def display(self):\n",
    "        for i in range(10):\n",
    "            print('Child Thread 2', current_thread().getName())\n",
    "obj = Test()\n",
    "t = Thread(target=obj.display)\n",
    "#t.setName('EMP Update')\n",
    "t.start()\n",
    "for i in range(10):\n",
    "    print('Main Thread 2', current_thread().getName())"
   ]
  },
  {
   "cell_type": "code",
   "execution_count": 89,
   "metadata": {},
   "outputs": [
    {
     "name": "stdout",
     "output_type": "stream",
     "text": [
      "Child Thread\n",
      "Main Thread identification no: 5204\n",
      "Child Thread Identification no: 3416\n"
     ]
    }
   ],
   "source": [
    "from threading import *\n",
    "def display():\n",
    "    print('Child Thread')\n",
    "t = Thread(target=display)\n",
    "t.start()\n",
    "print('Main Thread identification no:', current_thread().ident)\n",
    "print('Child Thread Identification no:', t.ident)"
   ]
  },
  {
   "cell_type": "code",
   "execution_count": 90,
   "metadata": {},
   "outputs": [
    {
     "name": "stdout",
     "output_type": "stream",
     "text": [
      "How many active threads are there 5\n"
     ]
    }
   ],
   "source": [
    "from threading import * \n",
    "import time\n",
    "def display():\n",
    "    print(current_thread().name, 'Started')\n",
    "    time.sleep(4)\n",
    "    print(current_thread().name, 'Ended')\n",
    "print('How many active threads are there', active_count())"
   ]
  },
  {
   "cell_type": "code",
   "execution_count": null,
   "metadata": {},
   "outputs": [],
   "source": [
    "from threading import * \n",
    "import time\n",
    "def display():\n",
    "    print(current_thread().name, 'Started')\n",
    "    time.sleep(4)\n",
    "    print(current_thread().name, 'Ended')\n",
    "print('How many active threads are there', active_count())\n",
    "t1 = Thread(target=display, name = 'Child Thread 1')\n",
    "t2 = Thread(target=display, name = 'Child Thread 2')\n",
    "t3 = Thread(target=display, name = 'Child Thread 3')\n",
    "t1.start()\n",
    "t2.start()\n",
    "t3.start()\n",
    "print('How many active threads are there', active_count())\n",
    "time.sleep(10)\n",
    "print('How many active threads are there', active_count())"
   ]
  },
  {
   "cell_type": "code",
   "execution_count": null,
   "metadata": {},
   "outputs": [],
   "source": [
    "from threading import * \n",
    "import time\n",
    "def display():\n",
    "    print(current_thread().name, 'Started')\n",
    "    time.sleep(4)\n",
    "    print(current_thread().name, 'Ended')\n",
    "print('How many active threads are there', active_count())\n",
    "t1 = Thread(target=display, name = 'Child Thread 1')\n",
    "t2 = Thread(target=display, name = 'Child Thread 2')\n",
    "t3 = Thread(target=display, name = 'Child Thread 3')\n",
    "t1.start()\n",
    "t2.start()\n",
    "t3.start()\n",
    "################\n",
    "l = enumerate()\n",
    "for t in l:\n",
    "    print('Name', t.name)\n",
    "time.sleep(10)\n",
    "\n",
    "##################\n",
    "l = enumerate()\n",
    "for t in l:\n",
    "    print('Name', t.name)\n"
   ]
  },
  {
   "cell_type": "code",
   "execution_count": 108,
   "metadata": {},
   "outputs": [
    {
     "name": "stdout",
     "output_type": "stream",
     "text": [
      "How many active threads are there 5\n",
      "Child Thread 1 Child Thread 2Started Started\n",
      "\n",
      "Child Thread 3Child Thread 1 is alive? True\n",
      "Child Thread 2 is alive? True\n",
      "Child Thread 3 is alive? True\n",
      "Name Rahuls Thread\n",
      "Name Thread-4\n",
      "Name Thread-5\n",
      "Name IPythonHistorySavingThread\n",
      "Name Thread-3\n",
      "Name Child Thread 1\n",
      " Started\n",
      "Name Child Thread 2\n",
      "Name Child Thread 3\n",
      "Child Thread 2 Ended\n",
      "Child Thread 1 Ended\n",
      "Child Thread 3 Ended\n",
      "Child Thread 1 is alive? False\n",
      "Child Thread 2 is alive? False\n",
      "Child Thread 3 is alive? False\n",
      "Name Rahuls Thread\n",
      "Name Thread-4\n",
      "Name Thread-5\n",
      "Name IPythonHistorySavingThread\n",
      "Name Thread-3\n"
     ]
    }
   ],
   "source": [
    "from threading import * \n",
    "import time\n",
    "def display():\n",
    "    print(current_thread().name, 'Started')\n",
    "    time.sleep(4)\n",
    "    print(current_thread().name, 'Ended')\n",
    "print('How many active threads are there', active_count())\n",
    "t1 = Thread(target=display, name = 'Child Thread 1')\n",
    "t2 = Thread(target=display, name = 'Child Thread 2')\n",
    "t3 = Thread(target=display, name = 'Child Thread 3')\n",
    "t1.start()\n",
    "t2.start()\n",
    "t3.start()\n",
    "t.join()\n",
    "################\n",
    "print(t1.name, 'is alive?',t1.is_alive())\n",
    "print(t2.name, 'is alive?',t2.is_alive())\n",
    "print(t3.name, 'is alive?',t3.is_alive())\n",
    "l = enumerate()\n",
    "for t in l:\n",
    "    print('Name', t.getName())\n",
    "time.sleep(10)\n",
    "\n",
    "##################\n",
    "print(t1.name, 'is alive?',t1.is_alive())\n",
    "print(t2.name, 'is alive?',t2.is_alive())\n",
    "print(t3.name, 'is alive?',t3.is_alive())\n",
    "l = enumerate()\n",
    "for t in l:\n",
    "    print('Name', t.name)\n"
   ]
  },
  {
   "cell_type": "code",
   "execution_count": null,
   "metadata": {},
   "outputs": [],
   "source": [
    "from threading import *\n",
    "import time\n",
    "def display():\n",
    "    for i in range(10):\n",
    "        print('A Thread')\n",
    "        time.sleep(2)\n",
    "t = Thread(target=display)\n",
    "t.start()\n",
    "for i in range(10):\n",
    "    print('B Thread')"
   ]
  },
  {
   "cell_type": "code",
   "execution_count": null,
   "metadata": {},
   "outputs": [],
   "source": [
    "from threading import *\n",
    "import time\n",
    "def display():\n",
    "    for i in range(10):\n",
    "        print('A Thread')\n",
    "        time.sleep(2)\n",
    "t = Thread(target=display)\n",
    "t.start()\n",
    "t.join()\n",
    "for i in range(10):\n",
    "    print('B Thread')"
   ]
  },
  {
   "cell_type": "code",
   "execution_count": null,
   "metadata": {},
   "outputs": [],
   "source": [
    "from threading import *\n",
    "import time\n",
    "def display():\n",
    "    for i in range(10):\n",
    "        print('A Thread')\n",
    "        time.sleep(2)\n",
    "t = Thread(target=display)\n",
    "t.start()\n",
    "t.join(5)\n",
    "for i in range(10):\n",
    "    print('B Thread')"
   ]
  },
  {
   "cell_type": "code",
   "execution_count": 96,
   "metadata": {},
   "outputs": [
    {
     "ename": "RuntimeError",
     "evalue": "cannot set daemon status of active thread",
     "output_type": "error",
     "traceback": [
      "\u001b[1;31m---------------------------------------------------------------------------\u001b[0m",
      "\u001b[1;31mRuntimeError\u001b[0m                              Traceback (most recent call last)",
      "\u001b[1;32m<ipython-input-96-b556869a1aa0>\u001b[0m in \u001b[0;36m<module>\u001b[1;34m\u001b[0m\n\u001b[0;32m      3\u001b[0m \u001b[1;31m#print(current_thread().getName())\u001b[0m\u001b[1;33m\u001b[0m\u001b[1;33m\u001b[0m\u001b[1;33m\u001b[0m\u001b[0m\n\u001b[0;32m      4\u001b[0m \u001b[1;31m#print(current_thread().isDaemon())\u001b[0m\u001b[1;33m\u001b[0m\u001b[1;33m\u001b[0m\u001b[1;33m\u001b[0m\u001b[0m\n\u001b[1;32m----> 5\u001b[1;33m \u001b[0mcurrent_thread\u001b[0m\u001b[1;33m(\u001b[0m\u001b[1;33m)\u001b[0m\u001b[1;33m.\u001b[0m\u001b[0msetDaemon\u001b[0m\u001b[1;33m(\u001b[0m\u001b[1;32mTrue\u001b[0m\u001b[1;33m)\u001b[0m\u001b[1;33m\u001b[0m\u001b[1;33m\u001b[0m\u001b[0m\n\u001b[0m",
      "\u001b[1;32m~\\Anaconda3\\lib\\threading.py\u001b[0m in \u001b[0;36msetDaemon\u001b[1;34m(self, daemonic)\u001b[0m\n\u001b[0;32m   1142\u001b[0m \u001b[1;33m\u001b[0m\u001b[0m\n\u001b[0;32m   1143\u001b[0m     \u001b[1;32mdef\u001b[0m \u001b[0msetDaemon\u001b[0m\u001b[1;33m(\u001b[0m\u001b[0mself\u001b[0m\u001b[1;33m,\u001b[0m \u001b[0mdaemonic\u001b[0m\u001b[1;33m)\u001b[0m\u001b[1;33m:\u001b[0m\u001b[1;33m\u001b[0m\u001b[1;33m\u001b[0m\u001b[0m\n\u001b[1;32m-> 1144\u001b[1;33m         \u001b[0mself\u001b[0m\u001b[1;33m.\u001b[0m\u001b[0mdaemon\u001b[0m \u001b[1;33m=\u001b[0m \u001b[0mdaemonic\u001b[0m\u001b[1;33m\u001b[0m\u001b[1;33m\u001b[0m\u001b[0m\n\u001b[0m\u001b[0;32m   1145\u001b[0m \u001b[1;33m\u001b[0m\u001b[0m\n\u001b[0;32m   1146\u001b[0m     \u001b[1;32mdef\u001b[0m \u001b[0mgetName\u001b[0m\u001b[1;33m(\u001b[0m\u001b[0mself\u001b[0m\u001b[1;33m)\u001b[0m\u001b[1;33m:\u001b[0m\u001b[1;33m\u001b[0m\u001b[1;33m\u001b[0m\u001b[0m\n",
      "\u001b[1;32m~\\Anaconda3\\lib\\threading.py\u001b[0m in \u001b[0;36mdaemon\u001b[1;34m(self, daemonic)\u001b[0m\n\u001b[0;32m   1135\u001b[0m             \u001b[1;32mraise\u001b[0m \u001b[0mRuntimeError\u001b[0m\u001b[1;33m(\u001b[0m\u001b[1;34m\"Thread.__init__() not called\"\u001b[0m\u001b[1;33m)\u001b[0m\u001b[1;33m\u001b[0m\u001b[1;33m\u001b[0m\u001b[0m\n\u001b[0;32m   1136\u001b[0m         \u001b[1;32mif\u001b[0m \u001b[0mself\u001b[0m\u001b[1;33m.\u001b[0m\u001b[0m_started\u001b[0m\u001b[1;33m.\u001b[0m\u001b[0mis_set\u001b[0m\u001b[1;33m(\u001b[0m\u001b[1;33m)\u001b[0m\u001b[1;33m:\u001b[0m\u001b[1;33m\u001b[0m\u001b[1;33m\u001b[0m\u001b[0m\n\u001b[1;32m-> 1137\u001b[1;33m             \u001b[1;32mraise\u001b[0m \u001b[0mRuntimeError\u001b[0m\u001b[1;33m(\u001b[0m\u001b[1;34m\"cannot set daemon status of active thread\"\u001b[0m\u001b[1;33m)\u001b[0m\u001b[1;33m\u001b[0m\u001b[1;33m\u001b[0m\u001b[0m\n\u001b[0m\u001b[0;32m   1138\u001b[0m         \u001b[0mself\u001b[0m\u001b[1;33m.\u001b[0m\u001b[0m_daemonic\u001b[0m \u001b[1;33m=\u001b[0m \u001b[0mdaemonic\u001b[0m\u001b[1;33m\u001b[0m\u001b[1;33m\u001b[0m\u001b[0m\n\u001b[0;32m   1139\u001b[0m \u001b[1;33m\u001b[0m\u001b[0m\n",
      "\u001b[1;31mRuntimeError\u001b[0m: cannot set daemon status of active thread"
     ]
    }
   ],
   "source": [
    "#Daemon Thread\n",
    "from threading import *\n",
    "#print(current_thread().getName())\n",
    "#print(current_thread().isDaemon())\n",
    "current_thread().setDaemon(True)"
   ]
  },
  {
   "cell_type": "code",
   "execution_count": 105,
   "metadata": {},
   "outputs": [
    {
     "name": "stdout",
     "output_type": "stream",
     "text": [
      "False\n",
      "False\n"
     ]
    }
   ],
   "source": [
    "from threading import *\n",
    "def job():\n",
    "    print('Child Thread')\n",
    "t = Thread(target=job)\n",
    "print(t.daemon)\n",
    "t.setDaemon(True)\n",
    "print(t.daemon)"
   ]
  },
  {
   "cell_type": "code",
   "execution_count": 101,
   "metadata": {},
   "outputs": [
    {
     "name": "stdout",
     "output_type": "stream",
     "text": [
      "A Thread\n",
      "A Thread\n",
      "End of Main Thread\n",
      "A Thread\n",
      "A Thread\n",
      "A Thread\n",
      "A Thread\n",
      "A Thread\n",
      "A Thread\n",
      "A Thread\n",
      "A Thread\n"
     ]
    }
   ],
   "source": [
    "from threading import *\n",
    "import time\n",
    "def job():\n",
    "    for i in range(10):\n",
    "        print('A Thread')\n",
    "        time.sleep(2)\n",
    "t = Thread(target=job)\n",
    "t.start()\n",
    "time.sleep(4)\n",
    "print('End of Main Thread')"
   ]
  },
  {
   "cell_type": "code",
   "execution_count": null,
   "metadata": {},
   "outputs": [],
   "source": [
    "A Thread\n",
    "A Thread\n",
    "A Thread\n",
    "End of Main Thread\n",
    "A Thread\n",
    "A Thread\n",
    "A Thread\n",
    "A Thread\n",
    "A Thread\n",
    "A Thread\n",
    "A Thread"
   ]
  },
  {
   "cell_type": "code",
   "execution_count": null,
   "metadata": {},
   "outputs": [],
   "source": [
    "A Thread\n",
    "A Thread\n",
    "End of Main Thread\n",
    "A Thread\n",
    "A Thread\n",
    "A Thread\n",
    "A Thread\n",
    "A Thread\n",
    "A Thread\n",
    "A Thread\n",
    "A Thread"
   ]
  },
  {
   "cell_type": "code",
   "execution_count": 103,
   "metadata": {},
   "outputs": [
    {
     "name": "stdout",
     "output_type": "stream",
     "text": [
      "Job 1 Execution\n",
      "Child Thread is daemon True\n"
     ]
    }
   ],
   "source": [
    "from threading import *\n",
    "import time\n",
    "def job1():\n",
    "    print('Job 1 Execution')\n",
    "    print(current_thread().name, 'is daemon', current_thread().daemon)\n",
    "def job2():\n",
    "    print('Job 2 execution')\n",
    "t = Thread(target=job1, name='Child Thread')\n",
    "t.setDaemon(True)\n",
    "t.start()\n",
    "time.sleep(10)"
   ]
  },
  {
   "cell_type": "code",
   "execution_count": 106,
   "metadata": {},
   "outputs": [
    {
     "name": "stdout",
     "output_type": "stream",
     "text": [
      "Job 1 Execution\n",
      "Child Thread is daemon True\n",
      "t is daemon True\n"
     ]
    }
   ],
   "source": [
    "from threading import *\n",
    "import time\n",
    "def job1():\n",
    "    print('Job 1 Execution')\n",
    "    print(current_thread().name, 'is daemon', current_thread().daemon)\n",
    "    t = Thread(target=job2, name='Child Thread 2')\n",
    "    print('t is daemon', t.daemon)\n",
    "def job2():\n",
    "    print('Job 2 execution')\n",
    "t = Thread(target=job1, name='Child Thread')\n",
    "t.setDaemon(True)\n",
    "t.start()\n",
    "time.sleep(10)"
   ]
  },
  {
   "cell_type": "code",
   "execution_count": 107,
   "metadata": {},
   "outputs": [
    {
     "name": "stdout",
     "output_type": "stream",
     "text": [
      "A Thread\n",
      "A Thread\n",
      "End of Main Thread\n",
      "A Thread\n",
      "A Thread\n",
      "A Thread\n",
      "A Thread\n",
      "A Thread\n",
      "A Thread\n",
      "A Thread\n",
      "A Thread\n"
     ]
    }
   ],
   "source": [
    "from threading import *\n",
    "import time\n",
    "def job():\n",
    "    for i in range(10):\n",
    "        print('A Thread')\n",
    "        time.sleep(2)\n",
    "t = Thread(target=job)\n",
    "t.setDaemon(True)\n",
    "t.start()\n",
    "time.sleep(4)\n",
    "print('End of Main Thread')"
   ]
  },
  {
   "cell_type": "code",
   "execution_count": 109,
   "metadata": {},
   "outputs": [],
   "source": [
    "#Synchronization \n",
    "#Lock\n",
    "#RLock   - Reentrance \n",
    "#Semaphore"
   ]
  },
  {
   "cell_type": "code",
   "execution_count": null,
   "metadata": {},
   "outputs": [],
   "source": [
    "def code():\n",
    "    10000 lines\n",
    "    some important code \n",
    "    10000 lines "
   ]
  },
  {
   "cell_type": "code",
   "execution_count": null,
   "metadata": {},
   "outputs": [],
   "source": [
    "l = Lock()\n",
    "l.acquire()\n",
    "l.release()"
   ]
  },
  {
   "cell_type": "code",
   "execution_count": null,
   "metadata": {},
   "outputs": [],
   "source": [
    "from threading import *\n",
    "import time\n",
    "def greeting(name):\n",
    "    for i in range(5):\n",
    "        print('Good Morning', end='')\n",
    "        time.sleep(2)\n",
    "        print(name)\n",
    "t1 = Thread(target=greeting, args=('Atharv',))\n",
    "t2 = Thread(target=greeting, args=('Rahul',))\n",
    "t1.start()\n",
    "t2.start()"
   ]
  },
  {
   "cell_type": "code",
   "execution_count": null,
   "metadata": {},
   "outputs": [],
   "source": [
    "from threading import *\n",
    "import time\n",
    "l = Lock()\n",
    "def greeting(name):\n",
    "    l.acquire()\n",
    "    for i in range(5):\n",
    "        print('Good Morning', end='')\n",
    "        time.sleep(5)\n",
    "        print(name)\n",
    "    l.release()\n",
    "t1 = Thread(target=greeting, args=('Atharv',))\n",
    "t2 = Thread(target=greeting, args=('Rahul',))\n",
    "t3 = Thread(target=greeting, args=('Khushal',))\n",
    "t4 = Thread(target=greeting, args=('Milind',))\n",
    "t5 = Thread(target=greeting, args=('Priyanka',))\n",
    "t1.start()\n",
    "t2.start()\n",
    "t3.start()\n",
    "t4.start()\n",
    "t5.start()"
   ]
  },
  {
   "cell_type": "code",
   "execution_count": null,
   "metadata": {},
   "outputs": [],
   "source": [
    "from threading import *\n",
    "import time\n",
    "l = Lock()\n",
    "def greeting(name):\n",
    "    l.acquire()\n",
    "    for i in range(5):\n",
    "        print('Good Morning', end='')\n",
    "        time.sleep(5)\n",
    "        print(name)\n",
    "    \n",
    "t1 = Thread(target=greeting, args=('Atharv',))\n",
    "t2 = Thread(target=greeting, args=('Rahul',))\n",
    "t3 = Thread(target=greeting, args=('Khushal',))\n",
    "t4 = Thread(target=greeting, args=('Milind',))\n",
    "t5 = Thread(target=greeting, args=('Priyanka',))\n",
    "t1.start()\n",
    "t2.start()\n",
    "t3.start()\n",
    "t4.start()\n",
    "t5.start()"
   ]
  },
  {
   "cell_type": "code",
   "execution_count": 110,
   "metadata": {},
   "outputs": [
    {
     "name": "stdout",
     "output_type": "stream",
     "text": [
      "Main thread acquiring the lock\n",
      "Main thread releasing the lock\n"
     ]
    }
   ],
   "source": [
    "from threading import *\n",
    "l = Lock()\n",
    "print('Main thread acquiring the lock')\n",
    "l.acquire()\n",
    "print('Main thread releasing the lock')\n",
    "l.release()"
   ]
  },
  {
   "cell_type": "code",
   "execution_count": 111,
   "metadata": {},
   "outputs": [
    {
     "name": "stdout",
     "output_type": "stream",
     "text": [
      "Main thread acquiring the lock\n",
      "Main thread releasing the lock\n"
     ]
    },
    {
     "ename": "RuntimeError",
     "evalue": "release unlocked lock",
     "output_type": "error",
     "traceback": [
      "\u001b[1;31m---------------------------------------------------------------------------\u001b[0m",
      "\u001b[1;31mRuntimeError\u001b[0m                              Traceback (most recent call last)",
      "\u001b[1;32m<ipython-input-111-6a4e5646ab21>\u001b[0m in \u001b[0;36m<module>\u001b[1;34m\u001b[0m\n\u001b[0;32m      4\u001b[0m \u001b[1;33m\u001b[0m\u001b[0m\n\u001b[0;32m      5\u001b[0m \u001b[0mprint\u001b[0m\u001b[1;33m(\u001b[0m\u001b[1;34m'Main thread releasing the lock'\u001b[0m\u001b[1;33m)\u001b[0m\u001b[1;33m\u001b[0m\u001b[1;33m\u001b[0m\u001b[0m\n\u001b[1;32m----> 6\u001b[1;33m \u001b[0ml\u001b[0m\u001b[1;33m.\u001b[0m\u001b[0mrelease\u001b[0m\u001b[1;33m(\u001b[0m\u001b[1;33m)\u001b[0m\u001b[1;33m\u001b[0m\u001b[1;33m\u001b[0m\u001b[0m\n\u001b[0m",
      "\u001b[1;31mRuntimeError\u001b[0m: release unlocked lock"
     ]
    }
   ],
   "source": [
    "from threading import *\n",
    "l = Lock()\n",
    "print('Main thread acquiring the lock')\n",
    "\n",
    "print('Main thread releasing the lock')\n",
    "l.release()"
   ]
  },
  {
   "cell_type": "code",
   "execution_count": null,
   "metadata": {},
   "outputs": [],
   "source": []
  },
  {
   "cell_type": "code",
   "execution_count": null,
   "metadata": {},
   "outputs": [],
   "source": []
  },
  {
   "cell_type": "code",
   "execution_count": null,
   "metadata": {},
   "outputs": [],
   "source": []
  },
  {
   "cell_type": "code",
   "execution_count": null,
   "metadata": {},
   "outputs": [],
   "source": []
  },
  {
   "cell_type": "code",
   "execution_count": null,
   "metadata": {},
   "outputs": [],
   "source": []
  },
  {
   "cell_type": "code",
   "execution_count": null,
   "metadata": {},
   "outputs": [],
   "source": []
  },
  {
   "cell_type": "code",
   "execution_count": null,
   "metadata": {},
   "outputs": [],
   "source": []
  },
  {
   "cell_type": "code",
   "execution_count": null,
   "metadata": {},
   "outputs": [],
   "source": []
  },
  {
   "cell_type": "code",
   "execution_count": null,
   "metadata": {},
   "outputs": [],
   "source": []
  },
  {
   "cell_type": "code",
   "execution_count": null,
   "metadata": {},
   "outputs": [],
   "source": []
  }
 ],
 "metadata": {
  "kernelspec": {
   "display_name": "Python 3",
   "language": "python",
   "name": "python3"
  },
  "language_info": {
   "codemirror_mode": {
    "name": "ipython",
    "version": 3
   },
   "file_extension": ".py",
   "mimetype": "text/x-python",
   "name": "python",
   "nbconvert_exporter": "python",
   "pygments_lexer": "ipython3",
   "version": "3.7.4"
  }
 },
 "nbformat": 4,
 "nbformat_minor": 2
}
