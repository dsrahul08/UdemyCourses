{
 "cells": [
  {
   "cell_type": "code",
   "execution_count": 19,
   "metadata": {},
   "outputs": [
    {
     "name": "stdout",
     "output_type": "stream",
     "text": [
      "Current executing thread: MainThread\n",
      "Display: Thread-13\n",
      "This code executed by thread: MainThread\n"
     ]
    }
   ],
   "source": [
    "#Multi Threading \n",
    "\n",
    "    #Multitasking - Executing several task simultaneously\n",
    "    #Two types of multi tasking \n",
    "        #1. Process based multi tasking \n",
    "        #2. Thread based multi tasking \n",
    "        \n",
    "        #1. Process based multi tasking \n",
    "            #Excuting several tasks simultaneously where each task is a seperate independent process. \n",
    "                #a. We are coding in python \n",
    "                #b. Downloading a file from the internet \n",
    "                #c. Listening audio files as well \n",
    "                \n",
    "        #2. Thread based multi tasking \n",
    "            #10000 lines of code - 5K lines not dependent on next 5K code then we will run simultaneously\n",
    "            #We have one program but 2 independent parts we have. Several tasks simultaneously where each tasks is a \n",
    "            #seperate independent part of same program \n",
    "            \n",
    "            #Scenario\n",
    "            #Several files are available \n",
    "                #In every files there are mobiles no save\n",
    "                    #I want to search my phone number in the file - Need to find the file name \n",
    "                    #We will search in c , d  and e drive simultaneously - We will create multi threads \n",
    "\n",
    "#Advantage - Reduce time and increase performance \n",
    "\n",
    "#1. Animation \n",
    "#2. Multi media graphics \n",
    "#3. Video Games \n",
    "#4. Web Servers and Application Servers \n",
    "        #Gmail - How many people can check simultaneously? \n",
    "\n",
    "#Python provides inbuilt multi threading\n",
    "#threading module we have to use.\n",
    "\n",
    "#Thread - \n",
    "#1. Flow of execution \n",
    "#2. For every thread, there is some job available\n",
    "#3. job\n",
    "#Single threaded program - Only one thread\n",
    "#Multi threaded - multiple flow\n",
    "\n",
    "#Every Python program - Single threaded program \n",
    "import threading\n",
    "print('Current executing thread:', threading.current_thread().getName())\n",
    "\n",
    "#The ways of creating thread in python:\n",
    "#3 ways \n",
    "    #1. Creating a thread without using any class\n",
    "    #2. Creating a thread by extending thread class \n",
    "    #3. Creating a thread without extending thread class\n",
    "    \n",
    "from threading import *\n",
    "def display():\n",
    "    print('Display:', current_thread().getName())\n",
    "#print('This code executed by thread:', current_thread().getName())\n",
    "#t = Thread(target=display)\n",
    "#print('This code executed by thread:', current_thread().getName())\n",
    "\n",
    "#MainThread creates child thread object \n",
    "#Child thread object is responsible for running display method\n",
    "t = Thread(target=display) #MainThread creates child thread object \n",
    "t.start() #MainThread starts chld thread\n",
    "print('This code executed by thread:', current_thread().getName())"
   ]
  },
  {
   "cell_type": "code",
   "execution_count": 31,
   "metadata": {},
   "outputs": [
    {
     "name": "stdout",
     "output_type": "stream",
     "text": [
      "Child Thread\n",
      "Child Thread\n",
      "Child Thread\n",
      "Child Thread\n",
      "Child Thread\n",
      "Child Thread\n",
      "Child Thread\n",
      "Child Thread\n",
      "Child Thread\n",
      "Child Thread\n",
      "Main Thread\n",
      "Main Thread\n",
      "Main Thread\n",
      "Main Thread\n",
      "Main Thread\n",
      "Main Thread\n",
      "Main Thread\n",
      "Main Thread\n",
      "Main Thread\n",
      "Main Thread\n"
     ]
    }
   ],
   "source": [
    "from threading import * \n",
    "def display():\n",
    "    for i in range(10):\n",
    "        print('Child Thread')\n",
    "\n",
    "t = Thread(target = display)\n",
    "t.start()\n",
    "for i in range(10):\n",
    "    print('Main Thread')\n",
    "#If multiple threads available we cannot decide how will it perform"
   ]
  },
  {
   "cell_type": "code",
   "execution_count": 9,
   "metadata": {},
   "outputs": [
    {
     "name": "stdout",
     "output_type": "stream",
     "text": [
      "Child Thread - 1Main Thread - 1\n",
      "Child Thread - 1\n",
      "Child Thread - 1\n",
      "Child Thread - 1\n",
      "Child Thread - 1\n",
      "Child Thread - 1\n",
      "Child Thread - 1\n",
      "Child Thread - 1\n",
      "Child Thread - 1\n",
      "Child Thread - 1\n",
      "\n",
      "Main Thread - 1\n",
      "Main Thread - 1\n",
      "Main Thread - 1\n",
      "Main Thread - 1\n",
      "Main Thread - 1\n",
      "Main Thread - 1\n",
      "Main Thread - 1\n",
      "Main Thread - 1\n",
      "Main Thread - 1\n"
     ]
    }
   ],
   "source": [
    "#NEED TO DISCUSS CLASS 2\n",
    "\n",
    "from threading import *\n",
    "class MyThread(Thread):\n",
    "    def run(self):\n",
    "        for i in range(10):\n",
    "            print('Child Thread - 1')\n",
    "            \n",
    "t = MyThread()\n",
    "t.start()\n",
    "for i in range(10):\n",
    "    print('Main Thread - 1')\n",
    "            \n",
    "#If we are not extendig thread class then only we will have to call target \n"
   ]
  },
  {
   "cell_type": "code",
   "execution_count": 10,
   "metadata": {},
   "outputs": [
    {
     "name": "stdout",
     "output_type": "stream",
     "text": [
      "Child Thread 2Main Thread 2 MainThread\n",
      "Main Thread 2 MainThread\n",
      "Main Thread 2 MainThread\n",
      "Main Thread 2 MainThread\n",
      "Main Thread 2 MainThread\n",
      "Main Thread 2 MainThread\n",
      "Main Thread 2 MainThread\n",
      "Main Thread 2 MainThread\n",
      "Main Thread 2 MainThread\n",
      "Main Thread 2 MainThread\n",
      " Thread-7\n",
      "Child Thread 2 Thread-7\n",
      "Child Thread 2 Thread-7\n",
      "Child Thread 2 Thread-7\n",
      "Child Thread 2 Thread-7\n",
      "Child Thread 2 Thread-7\n",
      "Child Thread 2 Thread-7\n",
      "Child Thread 2 Thread-7\n",
      "Child Thread 2 Thread-7\n",
      "Child Thread 2 Thread-7\n"
     ]
    }
   ],
   "source": [
    "#NEED TO DISCUSS IN THE CLASS\n",
    "from threading import *\n",
    "class Test:\n",
    "    def display(self):\n",
    "        for i in range(10):\n",
    "            print('Child Thread 2', current_thread().getName())\n",
    "\n",
    "obj = Test()\n",
    "t = Thread(target = obj.display)\n",
    "t.start()\n",
    "for i in range(10):\n",
    "    print('Main Thread 2', current_thread().getName())\n",
    "\n",
    "            \n",
    "#There is no link between thread and test class. \n"
   ]
  },
  {
   "cell_type": "code",
   "execution_count": 53,
   "metadata": {},
   "outputs": [
    {
     "name": "stdout",
     "output_type": "stream",
     "text": [
      "Child Thread Thread-46Child Thread\n",
      " Child Thread Thread-46\n",
      "Child Thread Thread-46Thread-47\n",
      "Child Thread\n",
      "Child Thread Thread-47\n",
      "Child Thread Thread-47\n",
      "Child Thread Thread-47\n",
      "Child Thread Thread-47\n",
      "Child Thread Thread-47\n",
      "Child Thread Thread-47\n",
      "Child Thread Thread-47\n",
      "Child Thread Thread-47\n",
      "Child Thread Thread-47\n",
      " Child Thread Thread-48\n",
      "Child Thread Thread-48\n",
      "Child Thread Thread-48\n",
      "Child Thread Thread-48\n",
      "Child Thread Thread-48\n",
      "Child Thread Thread-48\n",
      "Child Thread Thread-48\n",
      "Child Thread Thread-48\n",
      "Child Thread Thread-48\n",
      "Child Thread Thread-48\n",
      "Thread-46\n",
      "Child Thread Thread-46\n",
      "Child Thread Thread-46\n",
      "Child Thread Thread-46\n",
      "Child Thread Thread-46\n",
      "Child Thread Thread-46\n",
      "Child Thread Thread-46\n",
      "Child Thread Thread-49\n",
      "Child Thread Thread-49\n",
      "Child Thread Thread-49\n",
      "Child Thread Thread-49\n",
      "Child Thread Thread-49\n",
      "Child Thread Thread-49\n",
      "Child Thread Thread-49\n",
      "Child Thread Thread-49\n",
      "Child Thread Thread-49\n",
      "Child Thread Thread-49\n"
     ]
    }
   ],
   "source": [
    "from threading import *\n",
    "class Test:\n",
    "    def display(self):\n",
    "        for i in range(10):\n",
    "            print('Child Thread', current_thread().getName())\n",
    "obj = Test()\n",
    "t1 = Thread(target = obj.display)\n",
    "t2 = Thread(target = obj.display)\n",
    "t3 = Thread(target = obj.display)\n",
    "t4 = Thread(target = obj.display)\n",
    "t1.start()\n",
    "t2.start()\n",
    "t3.start()\n",
    "t4.start()"
   ]
  },
  {
   "cell_type": "code",
   "execution_count": 54,
   "metadata": {},
   "outputs": [
    {
     "name": "stdout",
     "output_type": "stream",
     "text": [
      "Double 2\n",
      "Double 4\n",
      "Double 6\n",
      "Double 8\n",
      "Double 10\n",
      "Double 12\n",
      "Square 1\n",
      "Square 4\n",
      "Square 9\n",
      "Square 16\n",
      "Square 25\n",
      "Square 36\n",
      "The total time taken 12.01194453239441\n"
     ]
    }
   ],
   "source": [
    "import time\n",
    "def doubles(numbers):\n",
    "    for n in numbers:\n",
    "        time.sleep(1)\n",
    "        print('Double', 2*n)\n",
    "\n",
    "def squares(numbers):\n",
    "    for n in numbers:\n",
    "        time.sleep(1)\n",
    "        print('Square', n*n)\n",
    "numbers = [1,2,3,4,5,6]\n",
    "begintime = time.time()\n",
    "doubles(numbers)\n",
    "squares(numbers)\n",
    "endtime = time.time()\n",
    "print('The total time taken', endtime-begintime)"
   ]
  },
  {
   "cell_type": "code",
   "execution_count": 55,
   "metadata": {},
   "outputs": [
    {
     "name": "stdout",
     "output_type": "stream",
     "text": [
      "DoubleSquare 2 1\n",
      "\n",
      "DoubleSquare  4\n",
      "4\n",
      "Double 6\n",
      "Square 9\n",
      "Double 8\n",
      "Square 16\n",
      "Double 10\n",
      "Square 25\n",
      "Double 12\n",
      "Square 36\n",
      "The total time taken 6.030531883239746\n"
     ]
    }
   ],
   "source": [
    "from threading import *\n",
    "import time\n",
    "def doubles(numbers):\n",
    "    for n in numbers:\n",
    "        time.sleep(1)\n",
    "        print('Double', 2*n)\n",
    "\n",
    "def squares(numbers):\n",
    "    for n in numbers:\n",
    "        time.sleep(1)\n",
    "        print('Square', n*n)\n",
    "numbers = [1,2,3,4,5,6]\n",
    "begintime = time.time()\n",
    "#doubles(numbers)\n",
    "t1 = Thread(target=doubles, args=(numbers,))\n",
    "#Thread in args variable looks for tuple, numbers, is single value tuple \n",
    "t2 = Thread(target=squares, args=(numbers,))\n",
    "t1.start()\n",
    "t2.start()\n",
    "t1.join()\n",
    "t2.join()\n",
    "\n",
    "#Main thread will wait until completing child threads that is why we will have to put join - We will discuss later\n",
    "#squares(numbers)\n",
    "endtime = time.time()\n",
    "print('The total time taken', endtime-begintime)"
   ]
  },
  {
   "cell_type": "code",
   "execution_count": 11,
   "metadata": {},
   "outputs": [
    {
     "name": "stdout",
     "output_type": "stream",
     "text": [
      "MainThread\n",
      "Rahul\n",
      "Rahul\n"
     ]
    }
   ],
   "source": [
    "#How to get and set the thread name \n",
    "#t.getName()\n",
    "#t.setName()\n",
    "\n",
    "from threading import *\n",
    "print(current_thread().getName())\n",
    "current_thread().setName('Rahul')\n",
    "print(current_thread().getName())\n",
    "print(current_thread().name) #We can get the name using this as well\n",
    "\n",
    "t.setName('child thread') #This is how we will able to rename the child thread as well "
   ]
  },
  {
   "cell_type": "code",
   "execution_count": 2,
   "metadata": {},
   "outputs": [
    {
     "name": "stdout",
     "output_type": "stream",
     "text": [
      "Child ThreadMain thread identification number 9644\n",
      "Child thread identification number 15020\n",
      "\n"
     ]
    }
   ],
   "source": [
    "from threading import *\n",
    "def display():\n",
    "    print('Child Thread')\n",
    "    \n",
    "t = Thread(target=display)\n",
    "t.start()\n",
    "print('Main thread identification number', current_thread().ident)\n",
    "print('Child thread identification number', t.ident)"
   ]
  },
  {
   "cell_type": "code",
   "execution_count": 3,
   "metadata": {},
   "outputs": [
    {
     "name": "stdout",
     "output_type": "stream",
     "text": [
      "Child Thread 17488\n",
      "Main thread identification number 9644\n",
      "Child thread identification number 17488\n"
     ]
    }
   ],
   "source": [
    "from threading import *\n",
    "def display():\n",
    "    print('Child Thread', current_thread().ident)\n",
    "    \n",
    "t = Thread(target=display)\n",
    "t.start()\n",
    "print('Main thread identification number', current_thread().ident)\n",
    "print('Child thread identification number', t.ident)"
   ]
  },
  {
   "cell_type": "code",
   "execution_count": 5,
   "metadata": {},
   "outputs": [
    {
     "name": "stdout",
     "output_type": "stream",
     "text": [
      "The number of active threads 5\n"
     ]
    }
   ],
   "source": [
    "#active_count() - going to return active threads\n",
    "#t = Thread(target=display, name = 'NewName')\n",
    "from threading import *\n",
    "import time\n",
    "def display():\n",
    "    print(current_thread().name, 'Started')\n",
    "    time.sleep(4)\n",
    "    print(current_thread().name, 'Ended')\n",
    "print('The number of active threads', active_count())\n"
   ]
  },
  {
   "cell_type": "code",
   "execution_count": 1,
   "metadata": {},
   "outputs": [
    {
     "name": "stdout",
     "output_type": "stream",
     "text": [
      "The number of active threads 5\n",
      "Child Thread 1 Started\n",
      "Child Thread 2 Started\n",
      "Child Thread 3 Started\n",
      "The number of active threads 8\n",
      "Child Thread 1 Ended\n",
      "Child Thread 2 Ended\n",
      "Child Thread 3 Ended\n",
      "The number of active threads 5\n"
     ]
    }
   ],
   "source": [
    "#Run this is idle\n",
    "#active_count() - going to return active threads\n",
    "#t = Thread(target=display, name = 'NewName')\n",
    "from threading import *\n",
    "import time\n",
    "def display():\n",
    "    print(current_thread().name, 'Started')\n",
    "    time.sleep(4)\n",
    "    print(current_thread().name, 'Ended')\n",
    "print('The number of active threads', active_count())\n",
    "t1 = Thread(target=display, name = 'Child Thread 1')\n",
    "t2 = Thread(target=display, name = 'Child Thread 2')\n",
    "t3 = Thread(target=display, name = 'Child Thread 3')\n",
    "t1.start()\n",
    "t2.start()\n",
    "t3.start()\n",
    "print('The number of active threads',active_count())\n",
    "time.sleep(10)\n",
    "print('The number of active threads',active_count())"
   ]
  },
  {
   "cell_type": "code",
   "execution_count": 16,
   "metadata": {},
   "outputs": [
    {
     "name": "stdout",
     "output_type": "stream",
     "text": [
      "The number of active threads 5\n",
      "Child Thread 1 StartedChild Thread 2 Started\n",
      "\n",
      "Child Thread 3 Started\n",
      "Name: Rahul\n",
      "Name: Thread-4\n",
      "Name: Thread-5\n",
      "Name: IPythonHistorySavingThread\n",
      "Name: Thread-3\n",
      "Name: Child Thread 1\n",
      "Name: Child Thread 2\n",
      "Name: Child Thread 3\n",
      "Child Thread 2 Ended\n",
      "Child Thread 1Child Thread 3 Ended\n",
      " Ended\n",
      "Name: Rahul\n",
      "Name: Thread-4\n",
      "Name: Thread-5\n",
      "Name: IPythonHistorySavingThread\n",
      "Name: Thread-3\n"
     ]
    }
   ],
   "source": [
    "#Run this is idle\n",
    "#active_count() - going to return active threads\n",
    "#t = Thread(target=display, name = 'NewName')\n",
    "from threading import *\n",
    "import time\n",
    "def display():\n",
    "    print(current_thread().name, 'Started')\n",
    "    time.sleep(4)\n",
    "    print(current_thread().name, 'Ended')\n",
    "print('The number of active threads', active_count())\n",
    "t1 = Thread(target=display, name = 'Child Thread 1')\n",
    "t2 = Thread(target=display, name = 'Child Thread 2')\n",
    "t3 = Thread(target=display, name = 'Child Thread 3')\n",
    "t1.start()\n",
    "t2.start()\n",
    "t3.start()\n",
    "#If we want all the info of all the thread - it is going to list out all the active threads info\n",
    "l = enumerate()\n",
    "for t in l:\n",
    "    print('Name:', t.name)\n",
    "time.sleep(10)\n",
    "l=enumerate()\n",
    "for t in l:\n",
    "    print('Name:', t.name)"
   ]
  },
  {
   "cell_type": "code",
   "execution_count": 7,
   "metadata": {},
   "outputs": [
    {
     "name": "stdout",
     "output_type": "stream",
     "text": [
      "The number of active threads 5\n",
      "Child Thread 1 Started\n",
      "Child Thread 2 Started\n",
      "Child Thread 3Child Thread 1 is Alive True Started\n",
      "\n",
      "Child Thread 2 is Alive True\n",
      "Child Thread 3 is Alive True\n",
      "Child Thread 1 Ended\n",
      "Child Thread 2 Ended\n",
      "Child Thread 3 Ended\n",
      "Child Thread 1 is Alive False\n",
      "Child Thread 2 is Alive False\n",
      "Child Thread 3 is Alive False\n"
     ]
    }
   ],
   "source": [
    "#Run this is idle\n",
    "#active_count() - going to return active threads\n",
    "#t = Thread(target=display, name = 'NewName')\n",
    "from threading import *\n",
    "import time\n",
    "def display():\n",
    "    print(current_thread().name, 'Started')\n",
    "    time.sleep(4)\n",
    "    print(current_thread().name, 'Ended')\n",
    "print('The number of active threads', active_count())\n",
    "t1 = Thread(target=display, name = 'Child Thread 1')\n",
    "t2 = Thread(target=display, name = 'Child Thread 2')\n",
    "t3 = Thread(target=display, name = 'Child Thread 3')\n",
    "t1.start()\n",
    "t2.start()\n",
    "t3.start()\n",
    "print(t1.name, 'is Alive', t1.is_alive())\n",
    "print(t2.name, 'is Alive', t2.is_alive())\n",
    "print(t3.name, 'is Alive', t3.is_alive())\n",
    "time.sleep(10)\n",
    "print(t1.name, 'is Alive', t1.is_alive())\n",
    "print(t2.name, 'is Alive', t2.is_alive())\n",
    "print(t3.name, 'is Alive', t3.is_alive())\n"
   ]
  },
  {
   "cell_type": "code",
   "execution_count": 8,
   "metadata": {},
   "outputs": [],
   "source": [
    "#join()\n",
    "#If a thread wants to wait once the other thread will complete then join will be used."
   ]
  },
  {
   "cell_type": "code",
   "execution_count": 12,
   "metadata": {},
   "outputs": [
    {
     "name": "stdout",
     "output_type": "stream",
     "text": [
      "The number of active threads 5\n",
      "Child Thread 1 Started\n",
      "Child Thread 2 Started\n",
      "Child Thread 3Child Thread 1 is Alive  TrueStarted\n",
      "\n",
      "Child Thread 2 is Alive True\n",
      "Child Thread 3 is Alive True\n",
      "Child Thread 1 Ended\n",
      "Child Thread 2 Ended\n",
      "Child Thread 3 Ended\n",
      "Child Thread 1 is Alive False\n",
      "Child Thread 2 is Alive False\n",
      "Child Thread 3 is Alive False\n"
     ]
    }
   ],
   "source": [
    "#Run this is idle\n",
    "#active_count() - going to return active threads\n",
    "#t = Thread(target=display, name = 'NewName')\n",
    "from threading import *\n",
    "import time\n",
    "def display():\n",
    "    print(current_thread().name, 'Started')\n",
    "    time.sleep(4)\n",
    "    print(current_thread().name, 'Ended')\n",
    "print('The number of active threads', active_count())\n",
    "t1 = Thread(target=display, name = 'Child Thread 1')\n",
    "t2 = Thread(target=display, name = 'Child Thread 2')\n",
    "t3 = Thread(target=display, name = 'Child Thread 3')\n",
    "t1.start()\n",
    "t2.start()\n",
    "t3.start()\n",
    "print(t1.name, 'is Alive', t1.is_alive())\n",
    "print(t2.name, 'is Alive', t2.is_alive())\n",
    "print(t3.name, 'is Alive', t3.is_alive())\n",
    "time.sleep(10)\n",
    "print(t1.name, 'is Alive', t1.is_alive())\n",
    "print(t2.name, 'is Alive', t2.is_alive())\n",
    "print(t3.name, 'is Alive', t3.is_alive())\n"
   ]
  },
  {
   "cell_type": "code",
   "execution_count": 13,
   "metadata": {},
   "outputs": [
    {
     "name": "stdout",
     "output_type": "stream",
     "text": [
      "A ThreadB Thread\n",
      "\n",
      "B Thread\n",
      "B Thread\n",
      "B Thread\n",
      "B Thread\n",
      "B Thread\n",
      "B Thread\n",
      "B Thread\n",
      "B Thread\n",
      "B Thread\n",
      "A Thread\n",
      "A Thread\n",
      "A Thread\n",
      "A Thread\n",
      "A Thread\n",
      "A Thread\n",
      "A Thread\n",
      "A Thread\n",
      "A Thread\n"
     ]
    }
   ],
   "source": [
    "from threading import *\n",
    "import time\n",
    "def display():\n",
    "    for i in range(10):\n",
    "        print('A Thread')\n",
    "        time.sleep(2)\n",
    "t = Thread(target = display)\n",
    "t.start()\n",
    "for i in range(10):\n",
    "    print('B Thread')"
   ]
  },
  {
   "cell_type": "code",
   "execution_count": 14,
   "metadata": {},
   "outputs": [
    {
     "name": "stdout",
     "output_type": "stream",
     "text": [
      "A Thread\n",
      "A Thread\n",
      "A Thread\n",
      "A Thread\n",
      "A Thread\n",
      "A Thread\n",
      "A Thread\n",
      "A Thread\n",
      "A Thread\n",
      "A Thread\n",
      "B Thread\n",
      "B Thread\n",
      "B Thread\n",
      "B Thread\n",
      "B Thread\n",
      "B Thread\n",
      "B Thread\n",
      "B Thread\n",
      "B Thread\n",
      "B Thread\n"
     ]
    }
   ],
   "source": [
    "from threading import *\n",
    "import time\n",
    "def display():\n",
    "    for i in range(10):\n",
    "        print('A Thread')\n",
    "        time.sleep(2)\n",
    "t = Thread(target = display)\n",
    "t.start()\n",
    "t.join()\n",
    "for i in range(10):\n",
    "    print('B Thread')"
   ]
  },
  {
   "cell_type": "code",
   "execution_count": 15,
   "metadata": {},
   "outputs": [
    {
     "name": "stdout",
     "output_type": "stream",
     "text": [
      "A Thread\n",
      "A Thread\n",
      "A Thread\n",
      "B Thread\n",
      "B Thread\n",
      "B Thread\n",
      "B Thread\n",
      "B Thread\n",
      "B Thread\n",
      "B Thread\n",
      "B Thread\n",
      "B Thread\n",
      "B Thread\n",
      "A Thread\n",
      "A Thread\n",
      "A Thread\n",
      "A Thread\n",
      "A Thread\n",
      "A Thread\n",
      "A Thread\n"
     ]
    }
   ],
   "source": [
    "from threading import *\n",
    "import time\n",
    "def display():\n",
    "    for i in range(10):\n",
    "        print('A Thread')\n",
    "        time.sleep(2)\n",
    "t = Thread(target = display)\n",
    "t.start()\n",
    "t.join(5)\n",
    "for i in range(10):\n",
    "    print('B Thread')"
   ]
  },
  {
   "cell_type": "code",
   "execution_count": 19,
   "metadata": {},
   "outputs": [
    {
     "name": "stdout",
     "output_type": "stream",
     "text": [
      "False\n"
     ]
    },
    {
     "ename": "RuntimeError",
     "evalue": "cannot set daemon status of active thread",
     "output_type": "error",
     "traceback": [
      "\u001b[1;31m---------------------------------------------------------------------------\u001b[0m",
      "\u001b[1;31mRuntimeError\u001b[0m                              Traceback (most recent call last)",
      "\u001b[1;32m<ipython-input-19-630e29728043>\u001b[0m in \u001b[0;36m<module>\u001b[1;34m\u001b[0m\n\u001b[0;32m      2\u001b[0m \u001b[1;32mfrom\u001b[0m \u001b[0mthreading\u001b[0m \u001b[1;32mimport\u001b[0m \u001b[1;33m*\u001b[0m\u001b[1;33m\u001b[0m\u001b[1;33m\u001b[0m\u001b[0m\n\u001b[0;32m      3\u001b[0m \u001b[0mprint\u001b[0m\u001b[1;33m(\u001b[0m\u001b[0mcurrent_thread\u001b[0m\u001b[1;33m(\u001b[0m\u001b[1;33m)\u001b[0m\u001b[1;33m.\u001b[0m\u001b[0misDaemon\u001b[0m\u001b[1;33m(\u001b[0m\u001b[1;33m)\u001b[0m\u001b[1;33m)\u001b[0m\u001b[1;33m\u001b[0m\u001b[1;33m\u001b[0m\u001b[0m\n\u001b[1;32m----> 4\u001b[1;33m \u001b[0mcurrent_thread\u001b[0m\u001b[1;33m(\u001b[0m\u001b[1;33m)\u001b[0m\u001b[1;33m.\u001b[0m\u001b[0msetDaemon\u001b[0m\u001b[1;33m(\u001b[0m\u001b[1;32mTrue\u001b[0m\u001b[1;33m)\u001b[0m\u001b[1;33m\u001b[0m\u001b[1;33m\u001b[0m\u001b[0m\n\u001b[0m\u001b[0;32m      5\u001b[0m \u001b[0mprint\u001b[0m\u001b[1;33m(\u001b[0m\u001b[0mcurrent_thread\u001b[0m\u001b[1;33m(\u001b[0m\u001b[1;33m)\u001b[0m\u001b[1;33m.\u001b[0m\u001b[0misDaemon\u001b[0m\u001b[1;33m(\u001b[0m\u001b[1;33m)\u001b[0m\u001b[1;33m)\u001b[0m\u001b[1;33m\u001b[0m\u001b[1;33m\u001b[0m\u001b[0m\n\u001b[0;32m      6\u001b[0m \u001b[1;31m#Main thread is always non daemon\u001b[0m\u001b[1;33m\u001b[0m\u001b[1;33m\u001b[0m\u001b[1;33m\u001b[0m\u001b[0m\n",
      "\u001b[1;32m~\\Anaconda3\\lib\\threading.py\u001b[0m in \u001b[0;36msetDaemon\u001b[1;34m(self, daemonic)\u001b[0m\n\u001b[0;32m   1142\u001b[0m \u001b[1;33m\u001b[0m\u001b[0m\n\u001b[0;32m   1143\u001b[0m     \u001b[1;32mdef\u001b[0m \u001b[0msetDaemon\u001b[0m\u001b[1;33m(\u001b[0m\u001b[0mself\u001b[0m\u001b[1;33m,\u001b[0m \u001b[0mdaemonic\u001b[0m\u001b[1;33m)\u001b[0m\u001b[1;33m:\u001b[0m\u001b[1;33m\u001b[0m\u001b[1;33m\u001b[0m\u001b[0m\n\u001b[1;32m-> 1144\u001b[1;33m         \u001b[0mself\u001b[0m\u001b[1;33m.\u001b[0m\u001b[0mdaemon\u001b[0m \u001b[1;33m=\u001b[0m \u001b[0mdaemonic\u001b[0m\u001b[1;33m\u001b[0m\u001b[1;33m\u001b[0m\u001b[0m\n\u001b[0m\u001b[0;32m   1145\u001b[0m \u001b[1;33m\u001b[0m\u001b[0m\n\u001b[0;32m   1146\u001b[0m     \u001b[1;32mdef\u001b[0m \u001b[0mgetName\u001b[0m\u001b[1;33m(\u001b[0m\u001b[0mself\u001b[0m\u001b[1;33m)\u001b[0m\u001b[1;33m:\u001b[0m\u001b[1;33m\u001b[0m\u001b[1;33m\u001b[0m\u001b[0m\n",
      "\u001b[1;32m~\\Anaconda3\\lib\\threading.py\u001b[0m in \u001b[0;36mdaemon\u001b[1;34m(self, daemonic)\u001b[0m\n\u001b[0;32m   1135\u001b[0m             \u001b[1;32mraise\u001b[0m \u001b[0mRuntimeError\u001b[0m\u001b[1;33m(\u001b[0m\u001b[1;34m\"Thread.__init__() not called\"\u001b[0m\u001b[1;33m)\u001b[0m\u001b[1;33m\u001b[0m\u001b[1;33m\u001b[0m\u001b[0m\n\u001b[0;32m   1136\u001b[0m         \u001b[1;32mif\u001b[0m \u001b[0mself\u001b[0m\u001b[1;33m.\u001b[0m\u001b[0m_started\u001b[0m\u001b[1;33m.\u001b[0m\u001b[0mis_set\u001b[0m\u001b[1;33m(\u001b[0m\u001b[1;33m)\u001b[0m\u001b[1;33m:\u001b[0m\u001b[1;33m\u001b[0m\u001b[1;33m\u001b[0m\u001b[0m\n\u001b[1;32m-> 1137\u001b[1;33m             \u001b[1;32mraise\u001b[0m \u001b[0mRuntimeError\u001b[0m\u001b[1;33m(\u001b[0m\u001b[1;34m\"cannot set daemon status of active thread\"\u001b[0m\u001b[1;33m)\u001b[0m\u001b[1;33m\u001b[0m\u001b[1;33m\u001b[0m\u001b[0m\n\u001b[0m\u001b[0;32m   1138\u001b[0m         \u001b[0mself\u001b[0m\u001b[1;33m.\u001b[0m\u001b[0m_daemonic\u001b[0m \u001b[1;33m=\u001b[0m \u001b[0mdaemonic\u001b[0m\u001b[1;33m\u001b[0m\u001b[1;33m\u001b[0m\u001b[0m\n\u001b[0;32m   1139\u001b[0m \u001b[1;33m\u001b[0m\u001b[0m\n",
      "\u001b[1;31mRuntimeError\u001b[0m: cannot set daemon status of active thread"
     ]
    }
   ],
   "source": [
    "#Daemon\n",
    "from threading import *\n",
    "print(current_thread().isDaemon())\n",
    "current_thread().setDaemon(True)\n",
    "print(current_thread().isDaemon())\n",
    "#Main thread is always non daemon \n",
    "#for all remaining threads daemon nature will be inherited from parent"
   ]
  },
  {
   "cell_type": "code",
   "execution_count": 52,
   "metadata": {},
   "outputs": [
    {
     "name": "stdout",
     "output_type": "stream",
     "text": [
      "False\n"
     ]
    },
    {
     "ename": "RuntimeError",
     "evalue": "cannot set daemon status of active thread",
     "output_type": "error",
     "traceback": [
      "\u001b[1;31m---------------------------------------------------------------------------\u001b[0m",
      "\u001b[1;31mRuntimeError\u001b[0m                              Traceback (most recent call last)",
      "\u001b[1;32m<ipython-input-52-d46913eb5b55>\u001b[0m in \u001b[0;36m<module>\u001b[1;34m\u001b[0m\n\u001b[0;32m      2\u001b[0m \u001b[1;32mfrom\u001b[0m \u001b[0mthreading\u001b[0m \u001b[1;32mimport\u001b[0m \u001b[1;33m*\u001b[0m\u001b[1;33m\u001b[0m\u001b[1;33m\u001b[0m\u001b[0m\n\u001b[0;32m      3\u001b[0m \u001b[0mprint\u001b[0m\u001b[1;33m(\u001b[0m\u001b[0mcurrent_thread\u001b[0m\u001b[1;33m(\u001b[0m\u001b[1;33m)\u001b[0m\u001b[1;33m.\u001b[0m\u001b[0misDaemon\u001b[0m\u001b[1;33m(\u001b[0m\u001b[1;33m)\u001b[0m\u001b[1;33m)\u001b[0m\u001b[1;33m\u001b[0m\u001b[1;33m\u001b[0m\u001b[0m\n\u001b[1;32m----> 4\u001b[1;33m \u001b[0mcurrent_thread\u001b[0m\u001b[1;33m(\u001b[0m\u001b[1;33m)\u001b[0m\u001b[1;33m.\u001b[0m\u001b[0msetDaemon\u001b[0m\u001b[1;33m(\u001b[0m\u001b[1;32mTrue\u001b[0m\u001b[1;33m)\u001b[0m\u001b[1;33m\u001b[0m\u001b[1;33m\u001b[0m\u001b[0m\n\u001b[0m\u001b[0;32m      5\u001b[0m \u001b[0mprint\u001b[0m\u001b[1;33m(\u001b[0m\u001b[0mcurrent_thread\u001b[0m\u001b[1;33m(\u001b[0m\u001b[1;33m)\u001b[0m\u001b[1;33m.\u001b[0m\u001b[0misDaemon\u001b[0m\u001b[1;33m(\u001b[0m\u001b[1;33m)\u001b[0m\u001b[1;33m)\u001b[0m\u001b[1;33m\u001b[0m\u001b[1;33m\u001b[0m\u001b[0m\n",
      "\u001b[1;32m~\\Anaconda3\\lib\\threading.py\u001b[0m in \u001b[0;36msetDaemon\u001b[1;34m(self, daemonic)\u001b[0m\n\u001b[0;32m   1142\u001b[0m \u001b[1;33m\u001b[0m\u001b[0m\n\u001b[0;32m   1143\u001b[0m     \u001b[1;32mdef\u001b[0m \u001b[0msetDaemon\u001b[0m\u001b[1;33m(\u001b[0m\u001b[0mself\u001b[0m\u001b[1;33m,\u001b[0m \u001b[0mdaemonic\u001b[0m\u001b[1;33m)\u001b[0m\u001b[1;33m:\u001b[0m\u001b[1;33m\u001b[0m\u001b[1;33m\u001b[0m\u001b[0m\n\u001b[1;32m-> 1144\u001b[1;33m         \u001b[0mself\u001b[0m\u001b[1;33m.\u001b[0m\u001b[0mdaemon\u001b[0m \u001b[1;33m=\u001b[0m \u001b[0mdaemonic\u001b[0m\u001b[1;33m\u001b[0m\u001b[1;33m\u001b[0m\u001b[0m\n\u001b[0m\u001b[0;32m   1145\u001b[0m \u001b[1;33m\u001b[0m\u001b[0m\n\u001b[0;32m   1146\u001b[0m     \u001b[1;32mdef\u001b[0m \u001b[0mgetName\u001b[0m\u001b[1;33m(\u001b[0m\u001b[0mself\u001b[0m\u001b[1;33m)\u001b[0m\u001b[1;33m:\u001b[0m\u001b[1;33m\u001b[0m\u001b[1;33m\u001b[0m\u001b[0m\n",
      "\u001b[1;32m~\\Anaconda3\\lib\\threading.py\u001b[0m in \u001b[0;36mdaemon\u001b[1;34m(self, daemonic)\u001b[0m\n\u001b[0;32m   1135\u001b[0m             \u001b[1;32mraise\u001b[0m \u001b[0mRuntimeError\u001b[0m\u001b[1;33m(\u001b[0m\u001b[1;34m\"Thread.__init__() not called\"\u001b[0m\u001b[1;33m)\u001b[0m\u001b[1;33m\u001b[0m\u001b[1;33m\u001b[0m\u001b[0m\n\u001b[0;32m   1136\u001b[0m         \u001b[1;32mif\u001b[0m \u001b[0mself\u001b[0m\u001b[1;33m.\u001b[0m\u001b[0m_started\u001b[0m\u001b[1;33m.\u001b[0m\u001b[0mis_set\u001b[0m\u001b[1;33m(\u001b[0m\u001b[1;33m)\u001b[0m\u001b[1;33m:\u001b[0m\u001b[1;33m\u001b[0m\u001b[1;33m\u001b[0m\u001b[0m\n\u001b[1;32m-> 1137\u001b[1;33m             \u001b[1;32mraise\u001b[0m \u001b[0mRuntimeError\u001b[0m\u001b[1;33m(\u001b[0m\u001b[1;34m\"cannot set daemon status of active thread\"\u001b[0m\u001b[1;33m)\u001b[0m\u001b[1;33m\u001b[0m\u001b[1;33m\u001b[0m\u001b[0m\n\u001b[0m\u001b[0;32m   1138\u001b[0m         \u001b[0mself\u001b[0m\u001b[1;33m.\u001b[0m\u001b[0m_daemonic\u001b[0m \u001b[1;33m=\u001b[0m \u001b[0mdaemonic\u001b[0m\u001b[1;33m\u001b[0m\u001b[1;33m\u001b[0m\u001b[0m\n\u001b[0;32m   1139\u001b[0m \u001b[1;33m\u001b[0m\u001b[0m\n",
      "\u001b[1;31mRuntimeError\u001b[0m: cannot set daemon status of active thread"
     ]
    }
   ],
   "source": [
    "#Daemon\n",
    "from threading import *\n",
    "print(current_thread().isDaemon())\n",
    "current_thread().setDaemon(True)\n",
    "print(current_thread().isDaemon())"
   ]
  },
  {
   "cell_type": "code",
   "execution_count": 22,
   "metadata": {},
   "outputs": [
    {
     "name": "stdout",
     "output_type": "stream",
     "text": [
      "False\n",
      "True\n"
     ]
    }
   ],
   "source": [
    "from threading import *\n",
    "def job():\n",
    "    print('Child Thread')\n",
    "t = Thread(target=job)\n",
    "print(t.daemon)\n",
    "t.setDaemon(True)\n",
    "print(t.daemon)"
   ]
  },
  {
   "cell_type": "code",
   "execution_count": 25,
   "metadata": {},
   "outputs": [
    {
     "name": "stdout",
     "output_type": "stream",
     "text": [
      "A Thread\n",
      "A Thread\n",
      "End of main thread\n",
      "A Thread\n",
      "A Thread\n",
      "A Thread\n",
      "A Thread\n",
      "A Thread\n",
      "A Thread\n",
      "A Thread\n",
      "A Thread\n"
     ]
    }
   ],
   "source": [
    "from threading import *\n",
    "import time\n",
    "def job():\n",
    "    for i in range(10):\n",
    "        print('A Thread')\n",
    "        time.sleep(3)\n",
    "t = Thread(target=job)\n",
    "#t.setDaemon(True)\n",
    "t.start()\n",
    "time.sleep(5)\n",
    "print('End of main thread')"
   ]
  },
  {
   "cell_type": "code",
   "execution_count": 27,
   "metadata": {},
   "outputs": [
    {
     "name": "stdout",
     "output_type": "stream",
     "text": [
      "Job 1 execution\n",
      "ChildThread is daemon: True\n"
     ]
    }
   ],
   "source": [
    "from threading import *\n",
    "import time \n",
    "def job1():\n",
    "    print('Job 1 execution')\n",
    "    print(current_thread().name, 'is daemon:', current_thread().daemon)\n",
    "def job2():\n",
    "    print('job 2 execution ')\n",
    "t = Thread(target = job1, name = 'ChildThread')\n",
    "t.setDaemon(True)\n",
    "t.start()\n",
    "time.sleep(10)"
   ]
  },
  {
   "cell_type": "code",
   "execution_count": 29,
   "metadata": {},
   "outputs": [
    {
     "name": "stdout",
     "output_type": "stream",
     "text": [
      "Job 1 execution\n",
      "ChildThread is daemon: True\n",
      "t is daemon True\n"
     ]
    }
   ],
   "source": [
    "from threading import *\n",
    "import time \n",
    "def job1():\n",
    "    print('Job 1 execution')\n",
    "    print(current_thread().name, 'is daemon:', current_thread().daemon)\n",
    "    t = Thread(target = job2, name = 'Child Thread2')\n",
    "    print('t is daemon', t.daemon)\n",
    "def job2():\n",
    "    print('job 2 execution ')\n",
    "t = Thread(target = job1, name = 'ChildThread')\n",
    "t.setDaemon(True)\n",
    "t.start()\n",
    "time.sleep(10)"
   ]
  },
  {
   "cell_type": "code",
   "execution_count": 33,
   "metadata": {},
   "outputs": [
    {
     "name": "stdout",
     "output_type": "stream",
     "text": [
      "Job 1 execution\n",
      "ChildThread is daemon: True\n",
      "ct is daemon True\n",
      "job 2 execution \n"
     ]
    }
   ],
   "source": [
    "from threading import *\n",
    "import time \n",
    "def job1():\n",
    "    print('Job 1 execution')\n",
    "    print(current_thread().name, 'is daemon:', current_thread().daemon)\n",
    "    ct = Thread(target = job2, name = 'Child Thread2')\n",
    "    print('ct is daemon', ct.daemon)\n",
    "    ct.start()\n",
    "def job2():\n",
    "    print('job 2 execution ')\n",
    "ct = Thread(target = job1, name = 'ChildThread')\n",
    "ct.setDaemon(True)\n",
    "ct.start()\n",
    "time.sleep(10)"
   ]
  },
  {
   "cell_type": "code",
   "execution_count": 34,
   "metadata": {},
   "outputs": [
    {
     "name": "stdout",
     "output_type": "stream",
     "text": [
      "Job 1 execution\n",
      "ChildThread is daemon: True\n",
      "ct is daemon False\n",
      "job 2 execution \n"
     ]
    }
   ],
   "source": [
    "from threading import *\n",
    "import time \n",
    "def job1():\n",
    "    print('Job 1 execution')\n",
    "    print(current_thread().name, 'is daemon:', current_thread().daemon)\n",
    "    ct = Thread(target = job2, name = 'Child Thread2')\n",
    "    ct.setDaemon(False)\n",
    "    print('ct is daemon', ct.daemon)\n",
    "    ct.start()\n",
    "def job2():\n",
    "    print('job 2 execution ')\n",
    "ct = Thread(target = job1, name = 'ChildThread')\n",
    "ct.setDaemon(True)\n",
    "ct.start()\n",
    "time.sleep(10)"
   ]
  },
  {
   "cell_type": "code",
   "execution_count": 38,
   "metadata": {},
   "outputs": [],
   "source": [
    "#Synchronization\n",
    "#Multiple thread running simulatneously - Data inconsistency problem will happen \n",
    "#Ticket booking system\n",
    "#Join Account"
   ]
  },
  {
   "cell_type": "code",
   "execution_count": 40,
   "metadata": {},
   "outputs": [
    {
     "name": "stdout",
     "output_type": "stream",
     "text": [
      "Good Morning:Rahul\n",
      "Good Morning:Rahul\n",
      "Good Morning:Rahul\n",
      "Good Morning:Rahul\n",
      "Good Morning:Rahul\n",
      "Good Morning:Atharv\n",
      "Good Morning:Atharv\n",
      "Good Morning:Atharv\n",
      "Good Morning:Atharv\n",
      "Good Morning:Atharv\n"
     ]
    }
   ],
   "source": [
    "from threading import *\n",
    "import time \n",
    "def greeting(name):\n",
    "    for i in range(5):\n",
    "        print('Good Morning:', end='')\n",
    "        time.sleep(5)\n",
    "        print(name)\n",
    "greeting('Rahul')"
   ]
  },
  {
   "cell_type": "code",
   "execution_count": 41,
   "metadata": {},
   "outputs": [
    {
     "name": "stdout",
     "output_type": "stream",
     "text": [
      "Good Morning:Good Morning:Atharv\n",
      "Good Morning:Roli\n",
      "Good Morning:Atharv\n",
      "Good Morning:Roli\n",
      "Good Morning:Atharv\n",
      "Good Morning:Roli\n",
      "Good Morning:Atharv\n",
      "Good Morning:Roli\n",
      "Good Morning:Atharv\n",
      "Roli\n"
     ]
    }
   ],
   "source": [
    "from threading import *\n",
    "import time \n",
    "def greeting(name):\n",
    "    for i in range(5):\n",
    "        print('Good Morning:', end='')\n",
    "        time.sleep(5)\n",
    "        print(name)\n",
    "#greeting('Rahul')\n",
    "t1 = Thread(target=greeting, args=('Atharv',))\n",
    "t2 = Thread(target=greeting, args=('Roli',))\n",
    "t1.start()\n",
    "t2.start()"
   ]
  },
  {
   "cell_type": "code",
   "execution_count": 42,
   "metadata": {},
   "outputs": [],
   "source": [
    "#At a time only one thread - Synchronization\n",
    "#1.Lock\n",
    "#2.RLock    #Reentrance \n",
    "#3.Semaphore"
   ]
  },
  {
   "cell_type": "code",
   "execution_count": null,
   "metadata": {},
   "outputs": [],
   "source": [
    "def greeting():\n",
    "    1 lakh lines (I can run simultaneously) read\n",
    "    some important code (One by one) update\n",
    "    1 lakh lines(I can run simultaneously) read\n",
    "    \n",
    "    join cannot used as it will have to wait for next thread"
   ]
  },
  {
   "cell_type": "code",
   "execution_count": 46,
   "metadata": {},
   "outputs": [],
   "source": [
    "#Synchronization by using Lock concept\n",
    "l = Lock()\n",
    "#Any thread having access will execute the code \n",
    "l.acquire()\n",
    "    #It will perform synchronized operations\n",
    "l.release()\n",
    "\n",
    "#Performance  issue will happen - Bridge example narrow road"
   ]
  },
  {
   "cell_type": "code",
   "execution_count": 48,
   "metadata": {},
   "outputs": [
    {
     "name": "stdout",
     "output_type": "stream",
     "text": [
      "Good Morning:Atharv\n",
      "Good Morning:Atharv\n",
      "Good Morning:Atharv\n",
      "Good Morning:Atharv\n",
      "Good Morning:Atharv\n",
      "Good Morning:Roli\n",
      "Good Morning:Roli\n",
      "Good Morning:Roli\n",
      "Good Morning:Roli\n",
      "Good Morning:Roli\n",
      "Good Morning:A\n",
      "Good Morning:A\n",
      "Good Morning:A\n",
      "Good Morning:A\n",
      "Good Morning:A\n",
      "Good Morning:B\n",
      "Good Morning:B\n",
      "Good Morning:B\n",
      "Good Morning:B\n",
      "Good Morning:B\n"
     ]
    }
   ],
   "source": [
    "from threading import *\n",
    "import time \n",
    "l = Lock()\n",
    "def greeting(name):\n",
    "    l.acquire()\n",
    "    for i in range(5):\n",
    "        print('Good Morning:', end='')\n",
    "        time.sleep(5)\n",
    "        print(name)\n",
    "    l.release()\n",
    "#greeting('Rahul')\n",
    "t1 = Thread(target=greeting, args=('Atharv',))\n",
    "t2 = Thread(target=greeting, args=('Roli',))\n",
    "t3 = Thread(target=greeting, args=('A',))\n",
    "t4 = Thread(target=greeting, args=('B',))\n",
    "t1.start()\n",
    "t2.start()\n",
    "t3.start()\n",
    "t4.start()"
   ]
  },
  {
   "cell_type": "code",
   "execution_count": null,
   "metadata": {},
   "outputs": [],
   "source": [
    "#DONT RUN - Hold\n",
    "from threading import *\n",
    "import time \n",
    "l = Lock()\n",
    "def greeting(name):\n",
    "    l.acquire()\n",
    "    for i in range(5):\n",
    "        print('Good Morning:', end='')\n",
    "        time.sleep(2)\n",
    "        print(name)\n",
    "    #l.release()\n",
    "#greeting('Rahul')\n",
    "t1 = Thread(target=greeting, args=('Atharv',))\n",
    "t2 = Thread(target=greeting, args=('Roli',))\n",
    "t3 = Thread(target=greeting, args=('A',))\n",
    "t4 = Thread(target=greeting, args=('B',))\n",
    "t1.start()\n",
    "t2.start()\n",
    "t3.start()\n",
    "t4.start()\n",
    "time.sleep(15)\n",
    "print(t1.is_alive())\n",
    "print('Main thread not require the lock')"
   ]
  },
  {
   "cell_type": "code",
   "execution_count": 49,
   "metadata": {},
   "outputs": [
    {
     "name": "stdout",
     "output_type": "stream",
     "text": [
      "Main thread acquiring the lock\n",
      "Main thread releasing the lock\n"
     ]
    }
   ],
   "source": [
    "from threading import *\n",
    "l = Lock()  #This line executed by main thread\n",
    "print('Main thread acquiring the lock')\n",
    "l.acquire()\n",
    "print('Main thread releasing the lock')\n",
    "l.release()"
   ]
  },
  {
   "cell_type": "code",
   "execution_count": 50,
   "metadata": {},
   "outputs": [
    {
     "name": "stdout",
     "output_type": "stream",
     "text": [
      "Main thread releasing the lock\n"
     ]
    },
    {
     "ename": "RuntimeError",
     "evalue": "release unlocked lock",
     "output_type": "error",
     "traceback": [
      "\u001b[1;31m---------------------------------------------------------------------------\u001b[0m",
      "\u001b[1;31mRuntimeError\u001b[0m                              Traceback (most recent call last)",
      "\u001b[1;32m<ipython-input-50-7d2b681255ee>\u001b[0m in \u001b[0;36m<module>\u001b[1;34m\u001b[0m\n\u001b[0;32m      4\u001b[0m \u001b[1;31m#l.acquire()\u001b[0m\u001b[1;33m\u001b[0m\u001b[1;33m\u001b[0m\u001b[1;33m\u001b[0m\u001b[0m\n\u001b[0;32m      5\u001b[0m \u001b[0mprint\u001b[0m\u001b[1;33m(\u001b[0m\u001b[1;34m'Main thread releasing the lock'\u001b[0m\u001b[1;33m)\u001b[0m\u001b[1;33m\u001b[0m\u001b[1;33m\u001b[0m\u001b[0m\n\u001b[1;32m----> 6\u001b[1;33m \u001b[0ml\u001b[0m\u001b[1;33m.\u001b[0m\u001b[0mrelease\u001b[0m\u001b[1;33m(\u001b[0m\u001b[1;33m)\u001b[0m\u001b[1;33m\u001b[0m\u001b[1;33m\u001b[0m\u001b[0m\n\u001b[0m",
      "\u001b[1;31mRuntimeError\u001b[0m: release unlocked lock"
     ]
    }
   ],
   "source": [
    "from threading import *\n",
    "l = Lock()  #This line executed by main thread\n",
    "#print('Main thread acquiring the lock')\n",
    "#l.acquire()\n",
    "print('Main thread releasing the lock')\n",
    "l.release()"
   ]
  },
  {
   "cell_type": "code",
   "execution_count": null,
   "metadata": {},
   "outputs": [],
   "source": [
    "#Why should be go for RLock"
   ]
  },
  {
   "cell_type": "code",
   "execution_count": null,
   "metadata": {},
   "outputs": [],
   "source": [
    "#Run in cmd\n",
    "from threading import *\n",
    "l = Lock()\n",
    "print('Main thread trying to acquire lock...')\n",
    "l.acquire()\n",
    "print('Main thread trying to acquire lock...')\n",
    "l.acquire()\n",
    "print('Main thread acquire same lock again')"
   ]
  },
  {
   "cell_type": "code",
   "execution_count": null,
   "metadata": {},
   "outputs": [],
   "source": [
    "#Run in cmd\n",
    "from threading import *\n",
    "l = RLock()\n",
    "print('Main thread trying to acquire lock...')\n",
    "l.acquire()\n",
    "print('Main thread trying to acquire lock...')\n",
    "l.acquire()\n",
    "print('Main thread acquire same lock again')\n",
    "#Other program not waiting so it will go out"
   ]
  },
  {
   "cell_type": "code",
   "execution_count": 51,
   "metadata": {},
   "outputs": [],
   "source": [
    "#Lock and RLock - In rlock acquired by thread it will run again (Recurrsion cases we can go for rlock)"
   ]
  },
  {
   "cell_type": "code",
   "execution_count": null,
   "metadata": {},
   "outputs": [],
   "source": [
    "l = RLock()\n",
    "l.acquire()\n",
    "l.acquire()\n",
    "l.acquire()\n",
    "l.release()\n",
    "l.release()\n",
    "l.release()"
   ]
  },
  {
   "cell_type": "code",
   "execution_count": null,
   "metadata": {},
   "outputs": [],
   "source": [
    "from threading import *\n",
    "import time\n",
    "l = RLock()\n",
    "def factorial(n):\n",
    "    l.acquire()\n",
    "    if n==0:\n",
    "        result = 1\n",
    "    else:\n",
    "        result = n*factorial(n-1)\n",
    "    l.release()\n",
    "    return result\n",
    "\n",
    "def results(n):\n",
    "    print('The factorial of', n,'is:', factorial(n))\n",
    "t1 = Thread(target = results, args=(5,))\n",
    "t2 = Thread(target = results, args=(9,))\n",
    "t1.start()\n",
    "t2.start()"
   ]
  },
  {
   "cell_type": "code",
   "execution_count": null,
   "metadata": {},
   "outputs": [],
   "source": [
    "from threading import *\n",
    "import time\n",
    "l = Lock()\n",
    "def factorial(n):\n",
    "    l.acquire()\n",
    "    if n==0:\n",
    "        result = 1\n",
    "    else:\n",
    "        result = n*factorial(n-1)\n",
    "    l.release()\n",
    "    return result\n",
    "\n",
    "def results(n):\n",
    "    print('The factorial of', n,'is:', factorial(n))\n",
    "t1 = Thread(target = results, args=(5,))\n",
    "t2 = Thread(target = results, args=(9,))\n",
    "t1.start()\n",
    "t2.start()\n",
    "#Tracking"
   ]
  },
  {
   "cell_type": "code",
   "execution_count": 55,
   "metadata": {},
   "outputs": [],
   "source": [
    "#Semaphore\n",
    "#At a time my code can executed by more than one threads (Fixed Number of threads)\n",
    "#Advanced sync concept"
   ]
  },
  {
   "cell_type": "code",
   "execution_count": 57,
   "metadata": {},
   "outputs": [],
   "source": [
    "#s = SemaPhore(count)\n",
    "#s.acquire() - Decrease the thread count\n",
    "#s.release() - Increase the thread count\n",
    "#If no arguement we are passing then 1 thread same as lock concept "
   ]
  },
  {
   "cell_type": "code",
   "execution_count": null,
   "metadata": {},
   "outputs": [],
   "source": [
    "from threading import * \n",
    "import time\n",
    "s = Semaphore()\n",
    "def wish(name):\n",
    "    s.acquire()\n",
    "    for i in range(10):\n",
    "        print('Good Evening:', end='')\n",
    "        time.sleep(2)\n",
    "        print(name)\n",
    "    s.release()\n",
    "t1 = Thread(target=wish, args=('Rahul',))\n",
    "t2 = Thread(target=wish, args=('Atharv',))\n",
    "t3 = Thread(target=wish, args=('Kushal',))\n",
    "t4 = Thread(target=wish, args=('Astha',))\n",
    "t5 = Thread(target=wish, args=('Muzammil',))\n",
    "t1.start()\n",
    "t2.start()\n",
    "t3.start()\n",
    "t4.start()\n",
    "t5.start()"
   ]
  },
  {
   "cell_type": "code",
   "execution_count": null,
   "metadata": {},
   "outputs": [],
   "source": [
    "from threading import *\n",
    "s = Semaphore()\n",
    "s.acquire()\n",
    "print('Main thread trying to acquire again...')\n",
    "s.acquire()\n",
    "print('Done')\n",
    "\n",
    "#Semaphore works as lock if no values passed in the no of threads"
   ]
  },
  {
   "cell_type": "code",
   "execution_count": null,
   "metadata": {},
   "outputs": [],
   "source": [
    "from threading import *\n",
    "s=BoundedSemaphore(2)\n",
    "s.acquire()\n",
    "s.acquire()\n",
    "s.release()\n",
    "s.release()\n",
    "s.release()\n",
    "s.release()\n",
    "s.release()\n",
    "\n",
    "#No of release call can be more then it is unbounded semaphore\n",
    "#If no of release calls same as acquire calls then it is bounded semaphore"
   ]
  },
  {
   "cell_type": "code",
   "execution_count": null,
   "metadata": {},
   "outputs": [],
   "source": [
    "from threading import *\n",
    "s=BoundedSemaphore(2)\n",
    "s.acquire()\n",
    "s.acquire()\n",
    "s.release()\n",
    "s.release()\n"
   ]
  },
  {
   "cell_type": "code",
   "execution_count": 58,
   "metadata": {},
   "outputs": [],
   "source": [
    "#Adv of Sync - data inconsistency problem\n",
    "#Dis adv - slow donw the performance so if necessary then only go for it"
   ]
  },
  {
   "cell_type": "code",
   "execution_count": 60,
   "metadata": {},
   "outputs": [],
   "source": [
    "#Interthread communication \n",
    "#sleep 9:0 PM to 5:00 AM - alarm\n",
    "#Producer - Consumer \n",
    "\n",
    "#In python we can achieve it by 3 ways \n",
    "    #Event\n",
    "    #Condition\n",
    "    #Queue"
   ]
  },
  {
   "cell_type": "code",
   "execution_count": 63,
   "metadata": {},
   "outputs": [],
   "source": [
    "#Interthread communication by using Event - \n",
    "    #signal and wait\n",
    "#e = Event()\n",
    "#methods of event class\n",
    "    #1. set() - internal flag value true - Green signal \n",
    "    #2. clear() - internal flag value false - Red signal \n",
    "    #isSet() - Event is set or not\n",
    "    #wait() - Thread can wait until event set\n",
    "        #wait(Time)\n",
    "    "
   ]
  },
  {
   "cell_type": "code",
   "execution_count": null,
   "metadata": {},
   "outputs": [],
   "source": [
    "from threading import *\n",
    "import time\n",
    "e = Event()\n",
    "def consumer():\n",
    "    print('Consumer Thread waiting for updation...')\n",
    "    e.wait()\n",
    "    print('Consumer thread got notification and consuming items...')\n",
    "def producer():\n",
    "    time.sleep(5)\n",
    "    print('Producer thread producting items')\n",
    "    print('Producer Thread giving notification by setting event')\n",
    "    e.set()\n",
    "t1 = Thread(target=consumer)\n",
    "t2 = Thread(target=producer)\n",
    "t1.start()\n",
    "t2.start()\n"
   ]
  },
  {
   "cell_type": "code",
   "execution_count": null,
   "metadata": {},
   "outputs": [],
   "source": [
    "from threading import *\n",
    "import time\n",
    "e = Event()\n",
    "def TrafficPolice():\n",
    "    while True:\n",
    "        time.sleep(10)\n",
    "        print('Traffic Police giving Green Signal')\n",
    "        e.set()\n",
    "        time.sleep(10)\n",
    "        print('Traffic Police giving Red Signal')\n",
    "        e.clear()\n",
    "def driver():\n",
    "    num = 0\n",
    "    while True:\n",
    "        print('Drivers waiting for Green Signal')\n",
    "        e.wait()\n",
    "        print('Traffic signal is Green... Vehicles can move')\n",
    "        while e.isSet():\n",
    "            num=num+1\n",
    "            print('Vehicle number:', num, 'crossing the signal')\n",
    "            time.sleep(2)\n",
    "        print('Traffic Signal is Red... Drivers have to wait')\n",
    "t1 = Thread(target = TrafficPolice)\n",
    "t2 = Thread(target = driver )\n",
    "t1.start()\n",
    "t2.start()"
   ]
  },
  {
   "cell_type": "code",
   "execution_count": 67,
   "metadata": {},
   "outputs": [],
   "source": [
    "#Interthread communication by using condition object\n",
    "    #Condition based communication\n",
    "    #Condition object is always associated with lock (Rlock)\n",
    "    #acquire method\n",
    "    #Release method \n",
    "#Methods\n",
    "    #acquire\n",
    "    #release\n",
    "    #wait , wait(time)\n",
    "    #c.notify()\n",
    "    #c.notifyAll() - multiple waiting threads there the this method"
   ]
  },
  {
   "cell_type": "code",
   "execution_count": 68,
   "metadata": {},
   "outputs": [],
   "source": [
    "from threading import *\n",
    "def consume(c):\n",
    "    c.acquire()\n",
    "    print('Consumer waiting for updation...')\n",
    "    c.wait()\n",
    "    print('Consumer got notification and consuming the item...')\n",
    "    c.release()\n",
    "def produce(c):\n",
    "    c.acquire()\n",
    "    print('Producer producing items...')\n",
    "    print('Producer giving the noficiation...')\n",
    "    c.notify()\n",
    "    c.release()\n",
    "c= Condition()\n",
    "t1 = Thread(target=consume, args=(c,))\n",
    "t2 = Thread(target=produce, args=(c,))\n",
    "t1.start()\n",
    "t2.start()"
   ]
  },
  {
   "cell_type": "code",
   "execution_count": null,
   "metadata": {},
   "outputs": [],
   "source": [
    "from threading import *\n",
    "import time \n",
    "import random\n",
    "items = []\n",
    "def produce(c):\n",
    "    while True:\n",
    "        c.acquire()\n",
    "        item = random.randint(1,100)\n",
    "        print('Producer producing the item:', item)\n",
    "        items.append(item)\n",
    "        print('Producer giving notification...')\n",
    "        c.notify()\n",
    "        c.release()\n",
    "        time.sleep(5)\n",
    "def consumer(c):\n",
    "    while True:\n",
    "        c.acquire()\n",
    "        print('Consumer waiting for updation...')\n",
    "        c.wait()\n",
    "        print('Consumer consuming the item:', items.pop())\n",
    "        c.release()\n",
    "        time.sleep(5)\n",
    "c = Condition()\n",
    "t1 = Thread(target = consumer, args=(c,))\n",
    "t2 = Thread(target = produce, args=(c,))\n",
    "t1.start()\n",
    "t2.start()\n",
    "        \n",
    "        "
   ]
  },
  {
   "cell_type": "code",
   "execution_count": null,
   "metadata": {},
   "outputs": [],
   "source": [
    "#Interthread communication by using queue\n",
    "    #Queue internally has condition object \n",
    "    #that condition has lock object\n",
    "import queue\n",
    "q = queue.Queue()\n",
    "q.put()\n",
    "q.get()\n",
    "\n",
    "#Queue - not have to worry about lock, syn, notification\n",
    "#put() - waiting concept - if queue is full put will call wait internally \n"
   ]
  },
  {
   "cell_type": "code",
   "execution_count": null,
   "metadata": {},
   "outputs": [],
   "source": [
    "from threading import *\n",
    "import queue\n",
    "def produce(q):\n",
    "    while True:\n",
    "        item = random.randint(1,100)\n",
    "        print('Producer producing the item:', item)\n",
    "        q.put(item)\n",
    "        print('Producer giving notification')\n",
    "        time.sleep(5)\n",
    "        \n",
    "def consumer(q):\n",
    "    while True:\n",
    "        print('Consumer waiting for updation')\n",
    "        print('Consumer consuming item:', q.get())\n",
    "        time.sleep(5)\n",
    "q = queue.Queue()\n",
    "t1 = Thread(target = consumer, args=(q,))\n",
    "t2 = Thread(target = produce, args=(q,))\n",
    "t1.start()\n",
    "t2.start()\n",
    "        \n",
    "        \n",
    "        \n",
    "        \n",
    "        \n",
    "        \n",
    "        \n",
    "        \n",
    "        "
   ]
  },
  {
   "cell_type": "code",
   "execution_count": null,
   "metadata": {},
   "outputs": [],
   "source": [
    "#Python supports 3 types of queues\n",
    "    #FIFO queue - Default behaviour \n",
    "    #\n",
    "    #\n"
   ]
  },
  {
   "cell_type": "code",
   "execution_count": null,
   "metadata": {},
   "outputs": [],
   "source": [
    "#FIFO\n",
    "import queue \n",
    "q = queue.Queue()\n",
    "q.put(10)\n",
    "q.put(4)\n",
    "q.put(5)\n",
    "q.put(3)\n",
    "q.put(0)\n",
    "while not q.empty():\n",
    "    print(q.get(), end = ' ')\n"
   ]
  },
  {
   "cell_type": "code",
   "execution_count": null,
   "metadata": {},
   "outputs": [],
   "source": [
    "#LIFO\n",
    "import queue \n",
    "q = queue.LifoQueue()\n",
    "q.put(10)\n",
    "q.put(4)\n",
    "q.put(5)\n",
    "q.put(3)\n",
    "q.put(0)\n",
    "while not q.empty():\n",
    "    print(q.get(), end = ' ')\n"
   ]
  },
  {
   "cell_type": "code",
   "execution_count": null,
   "metadata": {},
   "outputs": [],
   "source": [
    "#PriorityQueue\n",
    "import queue \n",
    "q = queue.PriorityQueue()\n",
    "q.put(10)\n",
    "q.put(4)\n",
    "q.put(5)\n",
    "q.put(3)\n",
    "q.put(0)\n",
    "while not q.empty():\n",
    "    print(q.get(), end = ' ')\n"
   ]
  },
  {
   "cell_type": "code",
   "execution_count": null,
   "metadata": {},
   "outputs": [],
   "source": [
    "#PriorityQueue\n",
    "import queue \n",
    "q = queue.PriorityQueue()\n",
    "q.put((1,'Rahul'))\n",
    "q.put((2,'Atharv'))\n",
    "q.put((5, 'Roli'))\n",
    "q.put((3, 'Shilpi'))\n",
    "q.put((4, 'Dont know'))\n",
    "while not q.empty():\n",
    "    print(q.get()[1], end = ' ')\n"
   ]
  },
  {
   "cell_type": "code",
   "execution_count": null,
   "metadata": {},
   "outputs": [],
   "source": []
  }
 ],
 "metadata": {
  "kernelspec": {
   "display_name": "Python 3",
   "language": "python",
   "name": "python3"
  },
  "language_info": {
   "codemirror_mode": {
    "name": "ipython",
    "version": 3
   },
   "file_extension": ".py",
   "mimetype": "text/x-python",
   "name": "python",
   "nbconvert_exporter": "python",
   "pygments_lexer": "ipython3",
   "version": "3.7.4"
  }
 },
 "nbformat": 4,
 "nbformat_minor": 2
}
